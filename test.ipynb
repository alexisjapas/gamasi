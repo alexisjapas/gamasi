{
 "cells": [
  {
   "cell_type": "code",
   "execution_count": 1,
   "metadata": {},
   "outputs": [
    {
     "name": "stdout",
     "output_type": "stream",
     "text": [
      "Agent 0 initialized by Universe\n",
      "Agent 1 initialized by Universe\n",
      "Agent 2 initialized by Universe\n",
      "Agent 3 initialized by Universe\n",
      "Agent 4 initialized by Universe\n",
      "Agent 5 initialized by Universe\n",
      "Agent 6 initialized by Universe\n",
      "Agent 7 initialized by Universe\n",
      "Agent 8 initialized by Universe\n",
      "Agent 9 initialized by Universe\n"
     ]
    }
   ],
   "source": [
    "import numpy as np\n",
    "\n",
    "from src.Lab import Lab\n",
    "\n",
    "# Settings\n",
    "height = 100\n",
    "width = 100\n",
    "init_pop_count = 10\n",
    "\n",
    "# Init lab\n",
    "lab = Lab(height=height, width=width, init_population_count=init_pop_count)"
   ]
  },
  {
   "cell_type": "code",
   "execution_count": 2,
   "metadata": {},
   "outputs": [
    {
     "name": "stdout",
     "output_type": "stream",
     "text": [
      "Agent 0 start running\n",
      "Agent 1 start running\n",
      "Agent 2 start running\n",
      "Agent 3 start running\n",
      "Agent 4 start running\n",
      "Agent 5 start running\n",
      "Agent 6 start running\n",
      "Agent 7 start running\n",
      "Agent 8 start running\n",
      "Agent 9 start running\n",
      "Agent 10 start running\n",
      "Agent 10 initialized by [a_1]\n",
      "Agent 11 start running\n",
      "Agent 11 initialized by [a_4]\n",
      "Agent 12 start running\n",
      "Agent 12 initialized by [a_4]\n",
      "Agent 13 start running\n",
      "Agent 13 initialized by [a_2]\n",
      "Agent 14 start running\n",
      "Agent 14 initialized by [a_8]\n",
      "Agent 15 start running\n",
      "Agent 15 initialized by [a_8]\n",
      "Agent 16 start running\n",
      "Agent 16 initialized by [a_9]\n",
      "Agent 4 died\n",
      "Agent 17 start running\n",
      "Agent 17 initialized by [a_3]\n",
      "Agent 7 died\n",
      "Agent 1 died\n",
      "Agent 8 died\n",
      "Agent 18 start running\n",
      "Agent 18 initialized by [a_11]\n",
      "Agent 19 start running\n",
      "Agent 19 initialized by [a_12]\n",
      "Agent 20 start running\n",
      "Agent 20 initialized by [a_11]\n",
      "Agent 21 start running\n",
      "Agent 21 initialized by [a_0]\n",
      "Agent 22 start running\n",
      "Agent 22 initialized by [a_10]\n",
      "Agent 3 died\n",
      "Agent 0 died\n",
      "Agent 2 died\n",
      "Agent 9 died\n",
      "Agent 11 died\n",
      "Agent 23 start runningAgent 23 initialized by [a_14]\n",
      "\n",
      "Agent 6 died\n",
      "Agent 12 died\n",
      "Agent 24 start running\n",
      "Agent 24 initialized by [a_13]\n",
      "Agent 10 died\n",
      "Agent 5 died\n",
      "Agent 25 start running\n",
      "Agent 25 initialized by [a_21]\n",
      "Agent 26 start running\n",
      "Agent 26 initialized by [a_18]\n",
      "Agent 27 start running\n",
      "Agent 27 initialized by [a_20]\n",
      "Agent 13 died\n",
      "Agent 14 died\n",
      "Agent 15 died\n",
      "Agent 28 start running\n",
      "Agent 28 initialized by [a_22]\n",
      "Agent 20 died\n",
      "Agent 16 died\n",
      "Agent 22 died\n",
      "Agent 29 start running\n",
      "Agent 29 initialized by [a_25]\n",
      "Agent 18 died\n",
      "Agent 30 start running\n",
      "Agent 30 initialized by [a_28]\n",
      "Agent 17 died\n",
      "Agent 21 died\n",
      "Agent 31 start running\n",
      "Agent 31 initialized by [a_27]\n",
      "Agent 19 died\n",
      "Agent 27 died\n",
      "Agent 28 died\n",
      "Agent 25 died\n",
      "Agent 23 died\n",
      "Agent 24 died\n",
      "Agent 26 died\n",
      "Agent 32 start running\n",
      "Agent 32 initialized by [a_30]\n",
      "Agent 31 died\n",
      "Agent 30 died\n",
      "Agent 29 died\n",
      "Agent 33 start running\n",
      "Agent 33 initialized by [a_32]\n",
      "Agent 34 start running\n",
      "Agent 34 initialized by [a_32]\n",
      "Agent 32 died\n",
      "Agent 35 start running\n",
      "Agent 35 initialized by [a_33]\n",
      "Agent 33 died\n",
      "Agent 36 start running\n",
      "Agent 36 initialized by [a_34]\n",
      "Agent 34 died\n",
      "Agent 37 start running\n",
      "Agent 37 initialized by [a_35]\n",
      "Agent 38 start running\n",
      "Agent 38 initialized by [a_36]\n",
      "Agent 39 start running\n",
      "Agent 39 initialized by [a_37]\n",
      "Agent 40 start runningAgent 40 initialized by [a_37]\n",
      "\n",
      "Agent 41 start running\n",
      "Agent 41 initialized by [a_38]\n",
      "Agent 35 died\n",
      "Agent 42 start running\n",
      "Agent 42 initialized by [a_40]\n",
      "Agent 36 died\n",
      "Agent 43 start running\n",
      "Agent 43 initialized by [a_39]\n",
      "Agent 37 died\n",
      "Agent 44 start running\n",
      "Agent 44 initialized by [a_39]\n",
      "Agent 39 died\n",
      "Agent 45 start running\n",
      "Agent 45 initialized by [a_42]\n",
      "Agent 46 start running\n",
      "Agent 46 initialized by [a_42]\n",
      "Agent 38 died\n",
      "Agent 47 start running\n",
      "Agent 47 initialized by [a_44]\n",
      "Agent 48 start running\n",
      "Agent 48 initialized by [a_43]\n",
      "Agent 49 start running\n",
      "Agent 49 initialized by [a_44]\n",
      "Agent 42 died\n",
      "Agent 44 died\n",
      "Agent 50 start running\n",
      "Agent 50 initialized by [a_41]\n",
      "Agent 40 died\n",
      "Agent 51 start running\n",
      "Agent 51 initialized by [a_47]\n",
      "Agent 41 died\n",
      "Agent 52 start running\n",
      "Agent 52 initialized by [a_48]\n",
      "Agent 43 died\n",
      "Agent 53 start running\n",
      "Agent 53 initialized by [a_48]\n",
      "Agent 48 died\n",
      "Agent 54 start running\n",
      "Agent 54 initialized by [a_52]\n",
      "Agent 55 start running\n",
      "Agent 55 initialized by [a_52]\n",
      "Agent 56 start running\n",
      "Agent 56 initialized by [a_46]\n",
      "Agent 57 start running\n",
      "Agent 57 initialized by [a_52]\n",
      "Agent 47 died\n",
      "Agent 52 died\n",
      "Agent 58 start running\n",
      "Agent 58 initialized by [a_50]\n",
      "Agent 46 died\n",
      "Agent 49 died\n",
      "Agent 59 start running\n",
      "Agent 59 initialized by [a_55]\n",
      "Agent 45 died\n",
      "Agent 60 start running\n",
      "Agent 60 initialized by [a_55]\n",
      "Agent 50 died\n",
      "Agent 51 died\n",
      "Agent 61 start running\n",
      "Agent 61 initialized by [a_53]\n",
      "Agent 62 start running\n",
      "Agent 62 initialized by [a_56]\n",
      "Agent 55 died\n",
      "Agent 53 died\n",
      "Agent 63 start running\n",
      "Agent 63 initialized by [a_58]\n",
      "Agent 64 start running\n",
      "Agent 64 initialized by [a_62]\n",
      "Agent 56 died\n",
      "Agent 58 died\n",
      "Agent 65 start running\n",
      "Agent 65 initialized by [a_62]\n",
      "Agent 66 start running\n",
      "Agent 66 initialized by [a_60]\n",
      "Agent 54 died\n",
      "Agent 67 start running\n",
      "Agent 67 initialized by [a_61]\n",
      "Agent 68 start running\n",
      "Agent 68 initialized by [a_59]\n",
      "Agent 69 start running\n",
      "Agent 69 initialized by [a_63]\n",
      "Agent 70 start running\n",
      "Agent 70 initialized by [a_66]\n",
      "Agent 59 died\n",
      "Agent 62 died\n",
      "Agent 57 died\n",
      "Agent 60 died\n",
      "Agent 71 start running\n",
      "Agent 71 initialized by [a_64]\n",
      "Agent 61 died\n",
      "Agent 72 start running\n",
      "Agent 72 initialized by [a_71]\n",
      "Agent 63 died\n",
      "Agent 64 died\n",
      "Agent 65 died\n",
      "Agent 73 start running\n",
      "Agent 73 initialized by [a_70]\n",
      "Agent 74 start running\n",
      "Agent 74 initialized by [a_67]\n",
      "Agent 66 died\n",
      "Agent 67 died\n",
      "Agent 68 died\n",
      "Agent 71 died\n",
      "Agent 75 start running\n",
      "Agent 75 initialized by [a_73]\n",
      "Agent 70 died\n",
      "Agent 69 died\n",
      "Agent 73 died\n",
      "Agent 76 start running\n",
      "Agent 76 initialized by [a_72]\n",
      "Agent 72 died\n",
      "Agent 77 start running\n",
      "Agent 77 initialized by [a_74]\n",
      "Agent 78 start running\n",
      "Agent 78 initialized by [a_75]\n",
      "Agent 79 start running\n",
      "Agent 79 initialized by [a_76]\n",
      "Agent 74 died\n",
      "Agent 80 start running\n",
      "Agent 80 initialized by [a_77]\n",
      "Agent 75 died\n",
      "Agent 81 start running\n",
      "Agent 81 initialized by [a_78]\n",
      "Agent 76 died\n",
      "Agent 77 died\n",
      "Agent 78 died\n",
      "Agent 82 start running\n",
      "Agent 82 initialized by [a_81]\n",
      "Agent 79 died\n",
      "Agent 80 died\n",
      "Agent 81 died\n",
      "Agent 82 died\n"
     ]
    }
   ],
   "source": [
    "lab.experiment(duration=10)"
   ]
  },
  {
   "cell_type": "code",
   "execution_count": 3,
   "metadata": {},
   "outputs": [
    {
     "name": "stdout",
     "output_type": "stream",
     "text": [
      "Living: 0 | Dead: 83\n",
      "Agents mean path len = 134.53012048192772 px\n",
      "Agents median path len = 144 px\n"
     ]
    },
    {
     "data": {
      "image/png": "[encoded data removed]",
      "text/plain": [
       "<Figure size 640x480 with 4 Axes>"
      ]
     },
     "metadata": {},
     "output_type": "display_data"
    }
   ],
   "source": [
    "lab.analyze(n_viz=4)"
   ]
  },
  {
   "cell_type": "code",
   "execution_count": 4,
   "metadata": {},
   "outputs": [
    {
     "name": "stdout",
     "output_type": "stream",
     "text": [
      "JUMP\n",
      "JUMP\n",
      "JUMP\n",
      "JUMP\n",
      "JUMP\n",
      "JUMP\n",
      "JUMP\n",
      "JUMP\n",
      "JUMP\n",
      "JUMP\n",
      "JUMP\n"
     ]
    }
   ],
   "source": [
    "import imageio\n",
    "timeline = lab.generate_actions_timeline(time_step=1e6)\n",
    "images = []\n",
    "from matplotlib import pyplot as plt\n",
    "\n",
    "for t in timeline:\n",
    "    images.append(t)"
   ]
  },
  {
   "cell_type": "code",
   "execution_count": 5,
   "metadata": {},
   "outputs": [],
   "source": [
    "imageio.mimsave('results/output.gif', images, duration=0.01, loop=0)"
   ]
  },
  {
   "cell_type": "code",
   "execution_count": 6,
   "metadata": {},
   "outputs": [
    {
     "name": "stdout",
     "output_type": "stream",
     "text": [
      "ID:   4 | GEN:   0 | BIRTH:     10 ms | DEATH:    107 ms | POS: P(y=81, x=16, t=106517326)\n",
      "ID:   7 | GEN:   0 | BIRTH:     10 ms | DEATH:    137 ms | POS: P(y=14, x=65, t=137193861)\n",
      "ID:   1 | GEN:   0 | BIRTH:     10 ms | DEATH:    151 ms | POS: P(y=52, x=27, t=150706502)\n",
      "ID:   8 | GEN:   0 | BIRTH:     11 ms | DEATH:    153 ms | POS: P(y=82, x=16, t=153356078)\n",
      "ID:   3 | GEN:   0 | BIRTH:     10 ms | DEATH:    195 ms | POS: P(y=10, x=98, t=194642330)\n",
      "ID:   0 | GEN:   0 | BIRTH:      9 ms | DEATH:    200 ms | POS: P(y=44, x=29, t=199196157)\n",
      "ID:   2 | GEN:   0 | BIRTH:     10 ms | DEATH:    201 ms | POS: P(y=88, x=35, t=201172694)\n",
      "ID:   9 | GEN:   0 | BIRTH:     11 ms | DEATH:    203 ms | POS: P(y=75, x=12, t=202780075)\n",
      "ID:  11 | GEN:   1 | BIRTH:     61 ms | DEATH:    205 ms | POS: P(y=90, x=26, t=204486392)\n",
      "ID:   6 | GEN:   0 | BIRTH:     10 ms | DEATH:    214 ms | POS: P(y=56, x=38, t=213231603)\n",
      "ID:  12 | GEN:   1 | BIRTH:     76 ms | DEATH:    222 ms | POS: P(y=80, x=28, t=221539539)\n",
      "ID:  10 | GEN:   1 | BIRTH:     56 ms | DEATH:    248 ms | POS: P(y=28, x=47, t=247647991)\n",
      "ID:   5 | GEN:   0 | BIRTH:     10 ms | DEATH:    251 ms | POS: P(y=31, x=70, t=250802078)\n",
      "ID:  13 | GEN:   1 | BIRTH:     86 ms | DEATH:    278 ms | POS: P(y=81, x=29, t=277845523)\n",
      "ID:  14 | GEN:   1 | BIRTH:     89 ms | DEATH:    280 ms | POS: P(y=85, x=20, t=280184303)\n",
      "ID:  15 | GEN:   1 | BIRTH:     92 ms | DEATH:    284 ms | POS: P(y=86, x=21, t=284195938)\n",
      "ID:  20 | GEN:   2 | BIRTH:    179 ms | DEATH:    317 ms | POS: P(y=94, x=36, t=316544226)\n",
      "ID:  16 | GEN:   1 | BIRTH:     96 ms | DEATH:    335 ms | POS: P(y=78, x=91, t=335159177)\n",
      "ID:  22 | GEN:   2 | BIRTH:    192 ms | DEATH:    337 ms | POS: P(y=30, x=46, t=336894950)\n",
      "ID:  18 | GEN:   2 | BIRTH:    154 ms | DEATH:    347 ms | POS: P(y=76, x=26, t=346988974)\n",
      "ID:  17 | GEN:   1 | BIRTH:    121 ms | DEATH:    362 ms | POS: P(y=94, x=97, t=361128126)\n",
      "ID:  21 | GEN:   1 | BIRTH:    183 ms | DEATH:    373 ms | POS: P(y=39, x=51, t=373054615)\n",
      "ID:  19 | GEN:   2 | BIRTH:    169 ms | DEATH:    408 ms | POS: P(y=89, x=24, t=408025629)\n",
      "ID:  27 | GEN:   3 | BIRTH:    275 ms | DEATH:    419 ms | POS: P(y=94, x=28, t=419208666)\n",
      "ID:  28 | GEN:   3 | BIRTH:    290 ms | DEATH:    433 ms | POS: P(y=41, x=33, t=433275792)\n",
      "ID:  25 | GEN:   2 | BIRTH:    257 ms | DEATH:    447 ms | POS: P(y=27, x=21, t=447416717)\n",
      "ID:  23 | GEN:   2 | BIRTH:    213 ms | DEATH:    450 ms | POS: P(y=87, x=18, t=450426372)\n",
      "ID:  24 | GEN:   2 | BIRTH:    242 ms | DEATH:    479 ms | POS: P(y=74, x=20, t=479005593)\n",
      "ID:  26 | GEN:   3 | BIRTH:    270 ms | DEATH:    508 ms | POS: P(y=86, x=27, t=507701344)\n",
      "ID:  31 | GEN:   4 | BIRTH:    374 ms | DEATH:    530 ms | POS: P(y=86, x=50, t=529556405)\n",
      "ID:  30 | GEN:   4 | BIRTH:    355 ms | DEATH:    542 ms | POS: P(y=36, x=68, t=542187533)\n",
      "ID:  29 | GEN:   3 | BIRTH:    344 ms | DEATH:    552 ms | POS: P(y=27, x=29, t=551969689)\n",
      "ID:  32 | GEN:   5 | BIRTH:    508 ms | DEATH:    649 ms | POS: P(y=47, x=76, t=648557060)\n",
      "ID:  33 | GEN:   6 | BIRTH:    556 ms | DEATH:    698 ms | POS: P(y=67, x=79, t=697645945)\n",
      "ID:  34 | GEN:   6 | BIRTH:    635 ms | DEATH:    770 ms | POS: P(y=51, x=92, t=770096433)\n",
      "ID:  35 | GEN:   7 | BIRTH:    693 ms | DEATH:    883 ms | POS: P(y=54, x=79, t=883278796)\n",
      "ID:  36 | GEN:   7 | BIRTH:    759 ms | DEATH:    901 ms | POS: P(y=45, x=85, t=900485863)\n",
      "ID:  37 | GEN:   8 | BIRTH:    781 ms | DEATH:    923 ms | POS: P(y=69, x=81, t=922507208)\n",
      "ID:  39 | GEN:   9 | BIRTH:    817 ms | DEATH:    960 ms | POS: P(y=68, x=81, t=959635760)\n",
      "ID:  38 | GEN:   8 | BIRTH:    809 ms | DEATH:    998 ms | POS: P(y=24, x=75, t=998204126)\n",
      "ID:  42 | GEN:  10 | BIRTH:    887 ms | DEATH:   1028 ms | POS: P(y=77, x=72, t=1027699154)\n",
      "ID:  44 | GEN:  10 | BIRTH:    951 ms | DEATH:   1036 ms | POS: P(y=68, x=87, t=1035672750)\n",
      "ID:  40 | GEN:   9 | BIRTH:    850 ms | DEATH:   1040 ms | POS: P(y=85, x=84, t=1039823647)\n",
      "ID:  41 | GEN:   9 | BIRTH:    872 ms | DEATH:   1064 ms | POS: P(y=57, x=87, t=1063128322)\n",
      "ID:  43 | GEN:  10 | BIRTH:    921 ms | DEATH:   1075 ms | POS: P(y=67, x=80, t=1074713106)\n",
      "ID:  48 | GEN:  11 | BIRTH:   1017 ms | DEATH:   1113 ms | POS: P(y=70, x=76, t=1112828940)\n",
      "ID:  47 | GEN:  11 | BIRTH:   1016 ms | DEATH:   1160 ms | POS: P(y=72, x=83, t=1159061058)\n",
      "ID:  52 | GEN:  12 | BIRTH:   1067 ms | DEATH:   1163 ms | POS: P(y=72, x=68, t=1162544467)\n",
      "ID:  46 | GEN:  11 | BIRTH:    991 ms | DEATH:   1183 ms | POS: P(y=75, x=81, t=1182861748)\n",
      "ID:  49 | GEN:  11 | BIRTH:   1022 ms | DEATH:   1188 ms | POS: P(y=69, x=75, t=1187233782)\n",
      "ID:  45 | GEN:  11 | BIRTH:    970 ms | DEATH:   1209 ms | POS: P(y=77, x=57, t=1208808625)\n",
      "ID:  50 | GEN:  10 | BIRTH:   1038 ms | DEATH:   1230 ms | POS: P(y=61, x=82, t=1229817761)\n",
      "ID:  51 | GEN:  12 | BIRTH:   1051 ms | DEATH:   1241 ms | POS: P(y=69, x=86, t=1240690794)\n",
      "ID:  55 | GEN:  13 | BIRTH:   1138 ms | DEATH:   1253 ms | POS: P(y=73, x=71, t=1252918992)\n",
      "ID:  53 | GEN:  12 | BIRTH:   1076 ms | DEATH:   1265 ms | POS: P(y=93, x=69, t=1265401099)\n",
      "ID:  56 | GEN:  12 | BIRTH:   1151 ms | DEATH:   1307 ms | POS: P(y=86, x=74, t=1306503164)\n",
      "ID:  58 | GEN:  11 | BIRTH:   1178 ms | DEATH:   1317 ms | POS: P(y=43, x=77, t=1316405646)\n",
      "ID:  54 | GEN:  13 | BIRTH:   1125 ms | DEATH:   1344 ms | POS: P(y=72, x=69, t=1344148220)\n",
      "ID:  59 | GEN:  14 | BIRTH:   1194 ms | DEATH:   1385 ms | POS: P(y=70, x=97, t=1385378065)\n",
      "ID:  62 | GEN:  13 | BIRTH:   1246 ms | DEATH:   1388 ms | POS: P(y=99, x=74, t=1388158167)\n",
      "ID:  57 | GEN:  13 | BIRTH:   1156 ms | DEATH:   1394 ms | POS: P(y=82, x=66, t=1393846394)\n",
      "ID:  60 | GEN:  14 | BIRTH:   1209 ms | DEATH:   1400 ms | POS: P(y=73, x=81, t=1400346591)\n",
      "ID:  61 | GEN:  13 | BIRTH:   1245 ms | DEATH:   1437 ms | POS: P(y=74, x=57, t=1437190275)\n",
      "ID:  63 | GEN:  12 | BIRTH:   1281 ms | DEATH:   1471 ms | POS: P(y=45, x=91, t=1471282922)\n",
      "ID:  64 | GEN:  14 | BIRTH:   1283 ms | DEATH:   1474 ms | POS: P(y=94, x=75, t=1473409913)\n",
      "ID:  65 | GEN:  14 | BIRTH:   1332 ms | DEATH:   1477 ms | POS: P(y=94, x=71, t=1476673788)\n",
      "ID:  66 | GEN:  15 | BIRTH:   1333 ms | DEATH:   1526 ms | POS: P(y=92, x=77, t=1525894071)\n",
      "ID:  67 | GEN:  14 | BIRTH:   1351 ms | DEATH:   1542 ms | POS: P(y=75, x=57, t=1541690197)\n",
      "ID:  68 | GEN:  15 | BIRTH:   1353 ms | DEATH:   1544 ms | POS: P(y=86, x=65, t=1543734472)\n",
      "ID:  71 | GEN:  15 | BIRTH:   1416 ms | DEATH:   1558 ms | POS: P(y=5, x=62, t=1557965757)\n",
      "ID:  70 | GEN:  16 | BIRTH:   1377 ms | DEATH:   1567 ms | POS: P(y=89, x=82, t=1567065245)\n",
      "ID:  69 | GEN:  13 | BIRTH:   1374 ms | DEATH:   1611 ms | POS: P(y=47, x=74, t=1610589547)\n",
      "ID:  73 | GEN:  17 | BIRTH:   1477 ms | DEATH:   1629 ms | POS: P(y=98, x=80, t=1628438274)\n",
      "ID:  72 | GEN:  16 | BIRTH:   1452 ms | DEATH:   1644 ms | POS: P(y=80, x=56, t=1644157866)\n",
      "ID:  74 | GEN:  15 | BIRTH:   1516 ms | DEATH:   1694 ms | POS: P(y=69, x=68, t=1694324654)\n",
      "ID:  75 | GEN:  18 | BIRTH:   1563 ms | DEATH:   1707 ms | POS: P(y=90, x=94, t=1707093882)\n",
      "ID:  76 | GEN:  17 | BIRTH:   1632 ms | DEATH:   1795 ms | POS: P(y=79, x=52, t=1794578007)\n",
      "ID:  77 | GEN:  16 | BIRTH:   1655 ms | DEATH:   1815 ms | POS: P(y=69, x=60, t=1815170818)\n",
      "ID:  78 | GEN:  19 | BIRTH:   1658 ms | DEATH:   1848 ms | POS: P(y=2, x=97, t=1848060838)\n",
      "ID:  79 | GEN:  18 | BIRTH:   1686 ms | DEATH:   1923 ms | POS: P(y=83, x=49, t=1922870533)\n",
      "ID:  80 | GEN:  17 | BIRTH:   1703 ms | DEATH:   1940 ms | POS: P(y=65, x=85, t=1940260194)\n",
      "ID:  81 | GEN:  20 | BIRTH:   1791 ms | DEATH:   1983 ms | POS: P(y=98, x=95, t=1982785272)\n",
      "ID:  82 | GEN:  21 | BIRTH:   1907 ms | DEATH:   2098 ms | POS: P(y=72, x=3, t=2097971734)\n"
     ]
    }
   ],
   "source": [
    "from src.Agent import Agent\n",
    "\n",
    "for a in list(Agent.living.values()) + list(Agent.dead.values()):\n",
    "    print(a)"
   ]
  },
  {
   "cell_type": "code",
   "execution_count": 7,
   "metadata": {},
   "outputs": [
    {
     "name": "stdout",
     "output_type": "stream",
     "text": [
      "[<Abilities.move: 'move'>]\n"
     ]
    }
   ],
   "source": [
    "from random import choices\n",
    "from enum import Enum\n",
    "\n",
    "class Abilities(Enum):\n",
    "    idle = \"idle\"\n",
    "    move = \"move\"\n",
    "    reproduce = \"reproduce\"\n",
    "\n",
    "print(choices(\n",
    "            [pa for pa in Abilities], weights=[0.25, 0.7, 0.05]\n",
    "        ))"
   ]
  },
  {
   "cell_type": "code",
   "execution_count": 8,
   "metadata": {},
   "outputs": [
    {
     "data": {
      "text/plain": [
       "0.010000000000000009"
      ]
     },
     "execution_count": 8,
     "metadata": {},
     "output_type": "execute_result"
    }
   ],
   "source": [
    "1-0.99\n"
   ]
  },
  {
   "cell_type": "code",
   "execution_count": 9,
   "metadata": {},
   "outputs": [
    {
     "data": {
      "text/plain": [
       "99"
      ]
     },
     "execution_count": 9,
     "metadata": {},
     "output_type": "execute_result"
    }
   ],
   "source": [
    "1000-1-900"
   ]
  },
  {
   "cell_type": "code",
   "execution_count": 10,
   "metadata": {},
   "outputs": [
    {
     "data": {
      "text/plain": [
       "0.999"
      ]
     },
     "execution_count": 10,
     "metadata": {},
     "output_type": "execute_result"
    }
   ],
   "source": [
    "sum([0.098, 0.900, 0.001])"
   ]
  },
  {
   "cell_type": "code",
   "execution_count": null,
   "metadata": {},
   "outputs": [],
   "source": []
  }
 ],
 "metadata": {
  "kernelspec": {
   "display_name": "Python 3",
   "language": "python",
   "name": "python3"
  },
  "language_info": {
   "codemirror_mode": {
    "name": "ipython",
    "version": 3
   },
   "file_extension": ".py",
   "mimetype": "text/x-python",
   "name": "python",
   "nbconvert_exporter": "python",
   "pygments_lexer": "ipython3",
   "version": "3.11.6"
  }
 },
 "nbformat": 4,
 "nbformat_minor": 2
}
