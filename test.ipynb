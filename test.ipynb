{
 "cells": [
  {
   "cell_type": "code",
   "execution_count": 1,
   "metadata": {},
   "outputs": [
    {
     "name": "stdout",
     "output_type": "stream",
     "text": [
      "Agent 0 initialized by Universe\n",
      "Agent 1 initialized by Universe\n",
      "Agent 2 initialized by Universe\n",
      "Agent 3 initialized by Universe\n",
      "Agent 4 initialized by Universe\n",
      "Agent 5 initialized by Universe\n",
      "Agent 6 initialized by Universe\n",
      "Agent 7 initialized by Universe\n",
      "Agent 8 initialized by Universe\n",
      "Agent 9 initialized by Universe\n"
     ]
    }
   ],
   "source": [
    "import numpy as np\n",
    "\n",
    "from src.Lab import Lab\n",
    "\n",
    "# Settings\n",
    "height = 100\n",
    "width = 100\n",
    "init_pop_count = 10\n",
    "\n",
    "# Init lab\n",
    "lab = Lab(height=height, width=width, init_population_count=init_pop_count)"
   ]
  },
  {
   "cell_type": "code",
   "execution_count": 2,
   "metadata": {},
   "outputs": [
    {
     "name": "stdout",
     "output_type": "stream",
     "text": [
      "[[<unlocked _thread.lock object at 0x7f59bf826dc0>\n",
      "  <unlocked _thread.lock object at 0x7f59bf84e300>\n",
      "  <unlocked _thread.lock object at 0x7f59e4785780> ...\n",
      "  <unlocked _thread.lock object at 0x7f59bf694f40>\n",
      "  <unlocked _thread.lock object at 0x7f59bf694f80>\n",
      "  <unlocked _thread.lock object at 0x7f59bf694fc0>]\n",
      " [<unlocked _thread.lock object at 0x7f59bf695000>\n",
      "  <unlocked _thread.lock object at 0x7f59bf695040>\n",
      "  <unlocked _thread.lock object at 0x7f59bf695080> ...\n",
      "  <unlocked _thread.lock object at 0x7f59bf69c180>\n",
      "  <unlocked _thread.lock object at 0x7f59bf69c1c0>\n",
      "  <unlocked _thread.lock object at 0x7f59bf69c200>]\n",
      " [<unlocked _thread.lock object at 0x7f59bf69c240>\n",
      "  <unlocked _thread.lock object at 0x7f59bf69c280>\n",
      "  <unlocked _thread.lock object at 0x7f59bf69c2c0> ...\n",
      "  <unlocked _thread.lock object at 0x7f59bf69f380>\n",
      "  <unlocked _thread.lock object at 0x7f59bf69f3c0>\n",
      "  <unlocked _thread.lock object at 0x7f59bf69f400>]\n",
      " ...\n",
      " [<unlocked _thread.lock object at 0x7f59bf507e40>\n",
      "  <unlocked _thread.lock object at 0x7f59bf507e80>\n",
      "  <unlocked _thread.lock object at 0x7f59bf507ec0> ...\n",
      "  <unlocked _thread.lock object at 0x7f59bf50afc0>\n",
      "  <unlocked _thread.lock object at 0x7f59bf50b000>\n",
      "  <unlocked _thread.lock object at 0x7f59bf50b040>]\n",
      " [<unlocked _thread.lock object at 0x7f59bf50b080>\n",
      "  <unlocked _thread.lock object at 0x7f59bf50b0c0>\n",
      "  <unlocked _thread.lock object at 0x7f59bf50b100> ...\n",
      "  <unlocked _thread.lock object at 0x7f59bf50e200>\n",
      "  <unlocked _thread.lock object at 0x7f59bf50e240>\n",
      "  <unlocked _thread.lock object at 0x7f59bf50e280>]\n",
      " [<unlocked _thread.lock object at 0x7f59bf50e2c0>\n",
      "  <unlocked _thread.lock object at 0x7f59bf50e300>\n",
      "  <unlocked _thread.lock object at 0x7f59bf50e340> ...\n",
      "  <unlocked _thread.lock object at 0x7f59bf511440>\n",
      "  <unlocked _thread.lock object at 0x7f59bf511480>\n",
      "  <unlocked _thread.lock object at 0x7f59bf5114c0>]]\n"
     ]
    }
   ],
   "source": [
    "print(lab.universe.space_locks)"
   ]
  },
  {
   "cell_type": "code",
   "execution_count": 2,
   "metadata": {},
   "outputs": [
    {
     "name": "stdout",
     "output_type": "stream",
     "text": [
      "Agent 0 start running\n",
      "Agent 1 start running\n",
      "Agent 2 start running\n",
      "Agent 3 start running\n",
      "Agent 4 start running\n",
      "Agent 5 start running\n",
      "Agent 6 start running\n",
      "Agent 7 start running\n",
      "Agent 8 start running\n",
      "Agent 9 start running\n",
      "Agent 7 died\n",
      "Agent 1 died\n",
      "Agent 8 died\n",
      "Agent 3 died\n",
      "Agent 6 died\n",
      "Agent 0 died\n",
      "Agent 4 died\n",
      "Agent 5 died\n",
      "Agent 2 died\n",
      "Agent 9 died\n"
     ]
    }
   ],
   "source": [
    "lab.experiment(duration=3)"
   ]
  },
  {
   "cell_type": "code",
   "execution_count": 3,
   "metadata": {},
   "outputs": [
    {
     "name": "stdout",
     "output_type": "stream",
     "text": [
      "Living: 0 | Dead: 10\n",
      "Agents mean path len = 59.3 px\n",
      "Agents median path len = 59 px\n"
     ]
    },
    {
     "data": {
      "image/png": "[encoded data removed]",
      "text/plain": [
       "<Figure size 640x480 with 4 Axes>"
      ]
     },
     "metadata": {},
     "output_type": "display_data"
    }
   ],
   "source": [
    "lab.analyze(n_viz=4)"
   ]
  },
  {
   "cell_type": "code",
   "execution_count": 4,
   "metadata": {},
   "outputs": [],
   "source": [
    "import imageio\n",
    "timeline = lab.generate_actions_timeline(time_step=1e6)\n",
    "images = []\n",
    "from matplotlib import pyplot as plt\n",
    "\n",
    "for t in timeline:\n",
    "    images.append(t)"
   ]
  },
  {
   "cell_type": "code",
   "execution_count": 5,
   "metadata": {},
   "outputs": [],
   "source": [
    "imageio.mimsave('results/output.gif', images, duration=0.01, loop=0)"
   ]
  },
  {
   "cell_type": "code",
   "execution_count": 6,
   "metadata": {},
   "outputs": [
    {
     "name": "stdout",
     "output_type": "stream",
     "text": [
      "ID:   7 | GEN:   0 | BIRTH:     10 ms | DEATH:    344 ms | POS: P(y=19, x=196, t=343457114)\n",
      "ID:   1 | GEN:   0 | BIRTH:      9 ms | DEATH:    347 ms | POS: P(y=104, x=94, t=341189544)\n",
      "ID:   8 | GEN:   0 | BIRTH:     10 ms | DEATH:    360 ms | POS: P(y=182, x=41, t=356696113)\n",
      "ID:   3 | GEN:   0 | BIRTH:     10 ms | DEATH:    369 ms | POS: P(y=42, x=175, t=368736284)\n",
      "ID:   6 | GEN:   0 | BIRTH:     10 ms | DEATH:    373 ms | POS: P(y=58, x=51, t=371144018)\n",
      "ID:   0 | GEN:   0 | BIRTH:      8 ms | DEATH:    375 ms | POS: P(y=107, x=3, t=375175489)\n",
      "ID:   4 | GEN:   0 | BIRTH:     10 ms | DEATH:    378 ms | POS: P(y=182, x=91, t=375737648)\n",
      "ID:   5 | GEN:   0 | BIRTH:     10 ms | DEATH:    387 ms | POS: P(y=156, x=120, t=385513596)\n",
      "ID:   2 | GEN:   0 | BIRTH:      9 ms | DEATH:    387 ms | POS: P(y=163, x=149, t=386645647)\n",
      "ID:   9 | GEN:   0 | BIRTH:     10 ms | DEATH:    393 ms | POS: P(y=174, x=11, t=392751725)\n"
     ]
    }
   ],
   "source": [
    "from src.Agent import Agent\n",
    "\n",
    "for a in list(Agent.living.values()) + list(Agent.dead.values()):\n",
    "    print(a)"
   ]
  }
 ],
 "metadata": {
  "kernelspec": {
   "display_name": "Python 3",
   "language": "python",
   "name": "python3"
  },
  "language_info": {
   "codemirror_mode": {
    "name": "ipython",
    "version": 3
   },
   "file_extension": ".py",
   "mimetype": "text/x-python",
   "name": "python",
   "nbconvert_exporter": "python",
   "pygments_lexer": "ipython3",
   "version": "3.11.6"
  }
 },
 "nbformat": 4,
 "nbformat_minor": 2
}
