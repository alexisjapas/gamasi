{
 "cells": [
  {
   "cell_type": "markdown",
   "metadata": {},
   "source": [
    "# GAMASI: Generic Asynchronous Multi-Agent Simulation Invoker"
   ]
  },
  {
   "cell_type": "markdown",
   "metadata": {},
   "source": [
    "# Running simulation"
   ]
  },
  {
   "cell_type": "code",
   "execution_count": 1,
   "metadata": {},
   "outputs": [],
   "source": [
    "import numpy as np\n",
    "\n",
    "from src.Lab import Lab\n",
    "\n",
    "lab = Lab()"
   ]
  },
  {
   "cell_type": "code",
   "execution_count": 2,
   "metadata": {},
   "outputs": [
    {
     "name": "stdout",
     "output_type": "stream",
     "text": [
      "Generating universe...\t: Done in 0.586 s\n"
     ]
    },
    {
     "name": "stderr",
     "output_type": "stream",
     "text": [
      "Generating positions\t: 100%|\u001b[35m██████████\u001b[0m| 10000/10000 [00:03<00:00, 2989.84it/s]\n",
      "Invoking population\t: 100%|\u001b[34m██████████\u001b[0m| 10000/10000 [00:00<00:00, 36951.19it/s]\n",
      "Starting population\t: 100%|\u001b[32m██████████\u001b[0m| 10000/10000 [00:01<00:00, 6442.55it/s]\n",
      "Running simulation\t: 100%|\u001b[33m██████████\u001b[0m| 10/10 [00:09<00:00,  1.00it/s]\n"
     ]
    },
    {
     "name": "stdout",
     "output_type": "stream",
     "text": [
      "Interrupting population\t: 5075...\n",
      "\t\t\t| 1418...\n",
      "Simulation succeed...\t: Returning data... Done in 16.086 s\n"
     ]
    }
   ],
   "source": [
    "simulation = lab.experiment(\n",
    "    height=1000, width=1000,\n",
    "    initial_population_count=10000,\n",
    "    max_total_duration=60, max_simulation_duration=10\n",
    ")"
   ]
  },
  {
   "cell_type": "markdown",
   "metadata": {},
   "source": [
    "## Stability tests"
   ]
  },
  {
   "cell_type": "markdown",
   "metadata": {},
   "source": [
    "### Gathering data"
   ]
  },
  {
   "cell_type": "code",
   "execution_count": 3,
   "metadata": {},
   "outputs": [],
   "source": [
    "errors_births_after_end = []\n",
    "errors_birth_dates = []\n",
    "\n",
    "for k, a in simulation[\"universe\"].population.items():\n",
    "    # Births after end\n",
    "    if a.birth_date > simulation[\"timings\"][\"stop\"]:\n",
    "        errors_births_after_end.append(a)\n",
    "\n",
    "    # Children younger than agent\n",
    "    if a.children:\n",
    "        for c in a.children:\n",
    "            if a.birth_date > c.birth_date:\n",
    "                errors_birth_dates.append((a, c))"
   ]
  },
  {
   "cell_type": "code",
   "execution_count": 4,
   "metadata": {},
   "outputs": [
    {
     "name": "stdout",
     "output_type": "stream",
     "text": [
      "16085514513\n"
     ]
    }
   ],
   "source": [
    "print(simulation[\"timings\"][\"stop\"])"
   ]
  },
  {
   "cell_type": "markdown",
   "metadata": {},
   "source": [
    "### Checking tests"
   ]
  },
  {
   "cell_type": "markdown",
   "metadata": {},
   "source": [
    "#### Births after the end of the simulation"
   ]
  },
  {
   "cell_type": "code",
   "execution_count": 5,
   "metadata": {},
   "outputs": [
    {
     "name": "stdout",
     "output_type": "stream",
     "text": [
      "[]\n",
      "0\n"
     ]
    }
   ],
   "source": [
    "print(errors_births_after_end)\n",
    "print(len(errors_births_after_end))"
   ]
  },
  {
   "cell_type": "markdown",
   "metadata": {},
   "source": [
    "#### Children are younger than their parents"
   ]
  },
  {
   "cell_type": "code",
   "execution_count": 6,
   "metadata": {},
   "outputs": [
    {
     "name": "stdout",
     "output_type": "stream",
     "text": [
      "[]\n"
     ]
    }
   ],
   "source": [
    "print(errors_birth_dates)"
   ]
  },
  {
   "cell_type": "markdown",
   "metadata": {},
   "source": [
    "## Analysis"
   ]
  },
  {
   "cell_type": "code",
   "execution_count": 7,
   "metadata": {},
   "outputs": [
    {
     "name": "stdout",
     "output_type": "stream",
     "text": [
      "{'parameters': {'height': 1000, 'width': 1000, 'initial_population_count': 10000, 'max_total_duration': 60, 'max_simulation_duration': 10}, 'timings': {'init_universe': 586200871, 'invoke_initial_population': 4230268738, 'start_initial_population': 5820944790, 'run': 15885274634, 'stop': 16085514513}, 'universe': Space at 16294100782 ns\n",
      "[[None None None ... None None None]\n",
      " [None None None ... None None None]\n",
      " [None None None ... None None None]\n",
      " ...\n",
      " [None None None ... None None None]\n",
      " [None None None ... None None None]\n",
      " [None None None ... None None None]]}\n"
     ]
    },
    {
     "ename": "AttributeError",
     "evalue": "'dict' object has no attribute 'universe'",
     "output_type": "error",
     "traceback": [
      "\u001b[0;31m---------------------------------------------------------------------------\u001b[0m",
      "\u001b[0;31mAttributeError\u001b[0m                            Traceback (most recent call last)",
      "Cell \u001b[0;32mIn[7], line 1\u001b[0m\n\u001b[0;32m----> 1\u001b[0m \u001b[43mlab\u001b[49m\u001b[38;5;241;43m.\u001b[39;49m\u001b[43manalyze\u001b[49m\u001b[43m(\u001b[49m\u001b[43msimulation\u001b[49m\u001b[43m)\u001b[49m\n",
      "File \u001b[0;32m~/Code/sinvoker/src/Lab.py:167\u001b[0m, in \u001b[0;36mLab.analyze\u001b[0;34m(self, simulation)\u001b[0m\n\u001b[1;32m    165\u001b[0m \u001b[38;5;28;01mdef\u001b[39;00m \u001b[38;5;21manalyze\u001b[39m(\u001b[38;5;28mself\u001b[39m, simulation: \u001b[38;5;28mdict\u001b[39m):\n\u001b[1;32m    166\u001b[0m     \u001b[38;5;28mprint\u001b[39m(simulation)\n\u001b[0;32m--> 167\u001b[0m     \u001b[38;5;28;01mfor\u001b[39;00m agent \u001b[38;5;129;01min\u001b[39;00m \u001b[43msimulation\u001b[49m\u001b[38;5;241;43m.\u001b[39;49m\u001b[43muniverse\u001b[49m\u001b[38;5;241m.\u001b[39mpopulation:\n\u001b[1;32m    168\u001b[0m         \u001b[38;5;28;01mpass\u001b[39;00m\n",
      "\u001b[0;31mAttributeError\u001b[0m: 'dict' object has no attribute 'universe'"
     ]
    }
   ],
   "source": [
    "lab.analyze(simulation)"
   ]
  },
  {
   "cell_type": "code",
   "execution_count": null,
   "metadata": {},
   "outputs": [],
   "source": [
    "import imageio\n",
    "\n",
    "timeline = lab.generate_actions_timeline(time_step=1e6)\n",
    "images = []\n",
    "from matplotlib import pyplot as plt\n",
    "\n",
    "for t in timeline:\n",
    "    images.append(t)"
   ]
  },
  {
   "cell_type": "code",
   "execution_count": null,
   "metadata": {},
   "outputs": [],
   "source": [
    "imageio.mimsave(\"results/output.gif\", images, duration=0.01, loop=0)"
   ]
  }
 ],
 "metadata": {
  "kernelspec": {
   "display_name": "Python 3 (ipykernel)",
   "language": "python",
   "name": "python3"
  },
  "language_info": {
   "codemirror_mode": {
    "name": "ipython",
    "version": 3
   },
   "file_extension": ".py",
   "mimetype": "text/x-python",
   "name": "python",
   "nbconvert_exporter": "python",
   "pygments_lexer": "ipython3",
   "version": "3.11.6"
  }
 },
 "nbformat": 4,
 "nbformat_minor": 4
}
