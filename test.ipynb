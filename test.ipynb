{
 "cells": [
  {
   "cell_type": "code",
   "execution_count": 1,
   "metadata": {},
   "outputs": [],
   "source": [
    "import numpy as np\n",
    "\n",
    "from src.Lab import Lab\n",
    "\n",
    "lab = Lab()"
   ]
  },
  {
   "cell_type": "code",
   "execution_count": 2,
   "metadata": {},
   "outputs": [
    {
     "name": "stdout",
     "output_type": "stream",
     "text": [
      "Generating universe...\t: Done in 0.002 s\n"
     ]
    },
    {
     "name": "stderr",
     "output_type": "stream",
     "text": [
      "Generating positions\t: 100%|\u001b[35m██████████\u001b[0m| 6000/6000 [00:01<00:00, 3546.97it/s] \n",
      "Invoking population\t: 100%|\u001b[34m██████████\u001b[0m| 6000/6000 [00:00<00:00, 29816.37it/s]\n",
      "Starting population\t: 100%|\u001b[32m██████████\u001b[0m| 6000/6000 [00:00<00:00, 24034.31it/s]\n",
      "Running simulation\t: 100%|\u001b[33m██████████\u001b[0m| 18/18 [00:17<00:00,  1.00it/s]\n",
      "Stopping population\t: 100%|\u001b[31m██████████\u001b[0m| 8630/8630 [00:00<00:00, 831327.79it/s]"
     ]
    },
    {
     "name": "stdout",
     "output_type": "stream",
     "text": [
      "Simulation succeed...\t: Returning data...\n"
     ]
    },
    {
     "name": "stderr",
     "output_type": "stream",
     "text": [
      "\n"
     ]
    }
   ],
   "source": [
    "simulation = lab.experiment(height=100, width=100, initial_population_count=6000, max_duration=20)"
   ]
  },
  {
   "cell_type": "code",
   "execution_count": null,
   "metadata": {},
   "outputs": [],
   "source": [
    "lab.analyze(n_viz=4)"
   ]
  },
  {
   "cell_type": "code",
   "execution_count": null,
   "metadata": {},
   "outputs": [],
   "source": [
    "import imageio\n",
    "timeline = lab.generate_actions_timeline(time_step=1e6)\n",
    "images = []\n",
    "from matplotlib import pyplot as plt\n",
    "\n",
    "for t in timeline:\n",
    "    images.append(t)"
   ]
  },
  {
   "cell_type": "code",
   "execution_count": null,
   "metadata": {},
   "outputs": [],
   "source": [
    "imageio.mimsave('results/output.gif', images, duration=0.01, loop=0)"
   ]
  },
  {
   "cell_type": "code",
   "execution_count": null,
   "metadata": {},
   "outputs": [],
   "source": [
    "from src.Agent import Agent\n",
    "for k, a in Agent.population.items():\n",
    "    if a.death_date is None:\n",
    "        print(a, a.phenome.brain.weights)"
   ]
  }
 ],
 "metadata": {
  "kernelspec": {
   "display_name": "Python 3",
   "language": "python",
   "name": "python3"
  },
  "language_info": {
   "codemirror_mode": {
    "name": "ipython",
    "version": 3
   },
   "file_extension": ".py",
   "mimetype": "text/x-python",
   "name": "python",
   "nbconvert_exporter": "python",
   "pygments_lexer": "ipython3",
   "version": "3.11.6"
  }
 },
 "nbformat": 4,
 "nbformat_minor": 2
}
