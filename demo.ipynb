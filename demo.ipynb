{
 "cells": [
  {
   "cell_type": "markdown",
   "metadata": {},
   "source": [
    "# GAMASI: Generic Asynchronous Multi-Agent Simulation Invoker"
   ]
  },
  {
   "cell_type": "markdown",
   "metadata": {},
   "source": [
    "## Running simulation"
   ]
  },
  {
   "cell_type": "code",
   "execution_count": 1,
   "metadata": {},
   "outputs": [],
   "source": [
    "import numpy as np\n",
    "\n",
    "from src.Lab import Lab\n",
    "\n",
    "lab = Lab()"
   ]
  },
  {
   "cell_type": "code",
   "execution_count": 2,
   "metadata": {},
   "outputs": [
    {
     "name": "stdout",
     "output_type": "stream",
     "text": [
      "Generating universe...\t: Done in 0.059 s\n"
     ]
    },
    {
     "name": "stderr",
     "output_type": "stream",
     "text": [
      "Generating positions\t: 100%|\u001b[35m██████████\u001b[0m| 1000/1000 [00:00<00:00, 27859.32it/s]\n",
      "Invoking population\t: 100%|\u001b[34m██████████\u001b[0m| 1000/1000 [00:00<00:00, 43078.15it/s]\n",
      "Starting population\t: 100%|\u001b[32m██████████\u001b[0m| 1000/1000 [00:00<00:00, 20006.12it/s]\n",
      "Running simulation\t: 100%|\u001b[33m██████████\u001b[0m| 2/2 [00:01<00:00,  1.07it/s]"
     ]
    },
    {
     "name": "stdout",
     "output_type": "stream",
     "text": [
      "Interrupting population\t: 719...\n",
      "Simulation succeed...\t: Returning data... Done in 2.367 s\n"
     ]
    },
    {
     "name": "stderr",
     "output_type": "stream",
     "text": [
      "\n"
     ]
    }
   ],
   "source": [
    "simulation = lab.experiment(\n",
    "    height=80, width=160,\n",
    "    initial_population_count=1000,\n",
    "    max_total_duration=60, max_simulation_duration=2\n",
    ")"
   ]
  },
  {
   "cell_type": "markdown",
   "metadata": {},
   "source": [
    "## Analysis"
   ]
  },
  {
   "cell_type": "markdown",
   "metadata": {},
   "source": [
    "### Statistics"
   ]
  },
  {
   "cell_type": "markdown",
   "metadata": {},
   "source": [
    "#### Gathering & computing"
   ]
  },
  {
   "cell_type": "code",
   "execution_count": 3,
   "metadata": {},
   "outputs": [
    {
     "name": "stdout",
     "output_type": "stream",
     "text": [
      "2308177800\n"
     ]
    }
   ],
   "source": [
    "print(simulation[\"universe\"].population[2].death_date)"
   ]
  },
  {
   "cell_type": "code",
   "execution_count": 4,
   "metadata": {},
   "outputs": [
    {
     "name": "stderr",
     "output_type": "stream",
     "text": [
      "Computing agents statistics\t: 100%|\u001b[31m██████████\u001b[0m| 2074/2074 [00:00<00:00, 9531.92it/s]\n"
     ]
    }
   ],
   "source": [
    "data = lab.gather_data(simulation)"
   ]
  },
  {
   "cell_type": "code",
   "execution_count": 5,
   "metadata": {},
   "outputs": [
    {
     "data": {
      "text/html": [
       "<div>\n",
       "<style scoped>\n",
       "    .dataframe tbody tr th:only-of-type {\n",
       "        vertical-align: middle;\n",
       "    }\n",
       "\n",
       "    .dataframe tbody tr th {\n",
       "        vertical-align: top;\n",
       "    }\n",
       "\n",
       "    .dataframe thead th {\n",
       "        text-align: right;\n",
       "    }\n",
       "</style>\n",
       "<table border=\"1\" class=\"dataframe\">\n",
       "  <thead>\n",
       "    <tr style=\"text-align: right;\">\n",
       "      <th></th>\n",
       "      <th>generation</th>\n",
       "      <th>parents_count</th>\n",
       "      <th>dead</th>\n",
       "      <th>lifespan</th>\n",
       "      <th>children_count</th>\n",
       "      <th>birth_success</th>\n",
       "      <th>travelled_distance</th>\n",
       "      <th>actions_count</th>\n",
       "      <th>min_decision_duration</th>\n",
       "      <th>max_decision_duration</th>\n",
       "      <th>...</th>\n",
       "      <th>min_action_duration</th>\n",
       "      <th>max_action_duration</th>\n",
       "      <th>mean_action_duration</th>\n",
       "      <th>median_action_duration</th>\n",
       "      <th>std_action_duration</th>\n",
       "      <th>min_round_duration</th>\n",
       "      <th>max_round_duration</th>\n",
       "      <th>mean_round_duration</th>\n",
       "      <th>median_round_duration</th>\n",
       "      <th>std_round_duration</th>\n",
       "    </tr>\n",
       "    <tr>\n",
       "      <th>id</th>\n",
       "      <th></th>\n",
       "      <th></th>\n",
       "      <th></th>\n",
       "      <th></th>\n",
       "      <th></th>\n",
       "      <th></th>\n",
       "      <th></th>\n",
       "      <th></th>\n",
       "      <th></th>\n",
       "      <th></th>\n",
       "      <th></th>\n",
       "      <th></th>\n",
       "      <th></th>\n",
       "      <th></th>\n",
       "      <th></th>\n",
       "      <th></th>\n",
       "      <th></th>\n",
       "      <th></th>\n",
       "      <th></th>\n",
       "      <th></th>\n",
       "      <th></th>\n",
       "    </tr>\n",
       "  </thead>\n",
       "  <tbody>\n",
       "    <tr>\n",
       "      <th>0</th>\n",
       "      <td>0</td>\n",
       "      <td>1</td>\n",
       "      <td>True</td>\n",
       "      <td>612959555</td>\n",
       "      <td>0</td>\n",
       "      <td>True</td>\n",
       "      <td>29</td>\n",
       "      <td>6</td>\n",
       "      <td>0</td>\n",
       "      <td>95761</td>\n",
       "      <td>...</td>\n",
       "      <td>731</td>\n",
       "      <td>712713353</td>\n",
       "      <td>1.240930e+07</td>\n",
       "      <td>6.477000e+03</td>\n",
       "      <td>8.251651e+07</td>\n",
       "      <td>3577</td>\n",
       "      <td>80015725</td>\n",
       "      <td>7.758982e+06</td>\n",
       "      <td>5212528.0</td>\n",
       "      <td>9.533286e+06</td>\n",
       "    </tr>\n",
       "    <tr>\n",
       "      <th>1</th>\n",
       "      <td>0</td>\n",
       "      <td>1</td>\n",
       "      <td>True</td>\n",
       "      <td>241858366</td>\n",
       "      <td>0</td>\n",
       "      <td>True</td>\n",
       "      <td>0</td>\n",
       "      <td>6</td>\n",
       "      <td>0</td>\n",
       "      <td>21291</td>\n",
       "      <td>...</td>\n",
       "      <td>8015</td>\n",
       "      <td>341652931</td>\n",
       "      <td>1.540896e+08</td>\n",
       "      <td>1.373488e+08</td>\n",
       "      <td>1.441091e+08</td>\n",
       "      <td>4218</td>\n",
       "      <td>166745694</td>\n",
       "      <td>8.061946e+07</td>\n",
       "      <td>75108454.0</td>\n",
       "      <td>8.350724e+07</td>\n",
       "    </tr>\n",
       "    <tr>\n",
       "      <th>2</th>\n",
       "      <td>0</td>\n",
       "      <td>1</td>\n",
       "      <td>True</td>\n",
       "      <td>2208321178</td>\n",
       "      <td>1</td>\n",
       "      <td>True</td>\n",
       "      <td>25</td>\n",
       "      <td>6</td>\n",
       "      <td>0</td>\n",
       "      <td>41007</td>\n",
       "      <td>...</td>\n",
       "      <td>1282</td>\n",
       "      <td>2308177800</td>\n",
       "      <td>4.725771e+07</td>\n",
       "      <td>6.382000e+03</td>\n",
       "      <td>2.963129e+08</td>\n",
       "      <td>2575</td>\n",
       "      <td>1579875826</td>\n",
       "      <td>2.538300e+07</td>\n",
       "      <td>5172913.0</td>\n",
       "      <td>1.688654e+08</td>\n",
       "    </tr>\n",
       "    <tr>\n",
       "      <th>3</th>\n",
       "      <td>0</td>\n",
       "      <td>1</td>\n",
       "      <td>False</td>\n",
       "      <td>2266893132</td>\n",
       "      <td>2</td>\n",
       "      <td>True</td>\n",
       "      <td>15</td>\n",
       "      <td>6</td>\n",
       "      <td>0</td>\n",
       "      <td>36369</td>\n",
       "      <td>...</td>\n",
       "      <td>1072</td>\n",
       "      <td>1775069871</td>\n",
       "      <td>5.841982e+07</td>\n",
       "      <td>6.813000e+03</td>\n",
       "      <td>2.923859e+08</td>\n",
       "      <td>167737</td>\n",
       "      <td>1775241775</td>\n",
       "      <td>6.042187e+07</td>\n",
       "      <td>5184555.0</td>\n",
       "      <td>2.947711e+08</td>\n",
       "    </tr>\n",
       "    <tr>\n",
       "      <th>4</th>\n",
       "      <td>0</td>\n",
       "      <td>1</td>\n",
       "      <td>True</td>\n",
       "      <td>2201442034</td>\n",
       "      <td>1</td>\n",
       "      <td>True</td>\n",
       "      <td>48</td>\n",
       "      <td>6</td>\n",
       "      <td>0</td>\n",
       "      <td>20400072</td>\n",
       "      <td>...</td>\n",
       "      <td>3858</td>\n",
       "      <td>2301348921</td>\n",
       "      <td>5.217287e+07</td>\n",
       "      <td>6.833000e+03</td>\n",
       "      <td>3.129591e+08</td>\n",
       "      <td>2825</td>\n",
       "      <td>1653978692</td>\n",
       "      <td>2.751803e+07</td>\n",
       "      <td>5162203.0</td>\n",
       "      <td>1.843809e+08</td>\n",
       "    </tr>\n",
       "    <tr>\n",
       "      <th>...</th>\n",
       "      <td>...</td>\n",
       "      <td>...</td>\n",
       "      <td>...</td>\n",
       "      <td>...</td>\n",
       "      <td>...</td>\n",
       "      <td>...</td>\n",
       "      <td>...</td>\n",
       "      <td>...</td>\n",
       "      <td>...</td>\n",
       "      <td>...</td>\n",
       "      <td>...</td>\n",
       "      <td>...</td>\n",
       "      <td>...</td>\n",
       "      <td>...</td>\n",
       "      <td>...</td>\n",
       "      <td>...</td>\n",
       "      <td>...</td>\n",
       "      <td>...</td>\n",
       "      <td>...</td>\n",
       "      <td>...</td>\n",
       "      <td>...</td>\n",
       "    </tr>\n",
       "    <tr>\n",
       "      <th>2069</th>\n",
       "      <td>2</td>\n",
       "      <td>1</td>\n",
       "      <td>True</td>\n",
       "      <td>4569</td>\n",
       "      <td>0</td>\n",
       "      <td>False</td>\n",
       "      <td>0</td>\n",
       "      <td>6</td>\n",
       "      <td>0</td>\n",
       "      <td>0</td>\n",
       "      <td>...</td>\n",
       "      <td>2325643252</td>\n",
       "      <td>2325647821</td>\n",
       "      <td>2.325646e+09</td>\n",
       "      <td>2.325646e+09</td>\n",
       "      <td>3.230771e+03</td>\n",
       "      <td>4569</td>\n",
       "      <td>4569</td>\n",
       "      <td>4.569000e+03</td>\n",
       "      <td>4569.0</td>\n",
       "      <td>NaN</td>\n",
       "    </tr>\n",
       "    <tr>\n",
       "      <th>2070</th>\n",
       "      <td>2</td>\n",
       "      <td>1</td>\n",
       "      <td>True</td>\n",
       "      <td>4258</td>\n",
       "      <td>0</td>\n",
       "      <td>False</td>\n",
       "      <td>0</td>\n",
       "      <td>6</td>\n",
       "      <td>0</td>\n",
       "      <td>0</td>\n",
       "      <td>...</td>\n",
       "      <td>2325711692</td>\n",
       "      <td>2325715950</td>\n",
       "      <td>2.325714e+09</td>\n",
       "      <td>2.325714e+09</td>\n",
       "      <td>3.010861e+03</td>\n",
       "      <td>4258</td>\n",
       "      <td>4258</td>\n",
       "      <td>4.258000e+03</td>\n",
       "      <td>4258.0</td>\n",
       "      <td>NaN</td>\n",
       "    </tr>\n",
       "    <tr>\n",
       "      <th>2071</th>\n",
       "      <td>1</td>\n",
       "      <td>1</td>\n",
       "      <td>True</td>\n",
       "      <td>4579</td>\n",
       "      <td>0</td>\n",
       "      <td>False</td>\n",
       "      <td>0</td>\n",
       "      <td>6</td>\n",
       "      <td>0</td>\n",
       "      <td>0</td>\n",
       "      <td>...</td>\n",
       "      <td>2325785581</td>\n",
       "      <td>2325790160</td>\n",
       "      <td>2.325788e+09</td>\n",
       "      <td>2.325788e+09</td>\n",
       "      <td>3.237842e+03</td>\n",
       "      <td>4579</td>\n",
       "      <td>4579</td>\n",
       "      <td>4.579000e+03</td>\n",
       "      <td>4579.0</td>\n",
       "      <td>NaN</td>\n",
       "    </tr>\n",
       "    <tr>\n",
       "      <th>2072</th>\n",
       "      <td>2</td>\n",
       "      <td>1</td>\n",
       "      <td>True</td>\n",
       "      <td>5120</td>\n",
       "      <td>0</td>\n",
       "      <td>False</td>\n",
       "      <td>0</td>\n",
       "      <td>6</td>\n",
       "      <td>0</td>\n",
       "      <td>0</td>\n",
       "      <td>...</td>\n",
       "      <td>2325873497</td>\n",
       "      <td>2325878617</td>\n",
       "      <td>2.325876e+09</td>\n",
       "      <td>2.325876e+09</td>\n",
       "      <td>3.620387e+03</td>\n",
       "      <td>5120</td>\n",
       "      <td>5120</td>\n",
       "      <td>5.120000e+03</td>\n",
       "      <td>5120.0</td>\n",
       "      <td>NaN</td>\n",
       "    </tr>\n",
       "    <tr>\n",
       "      <th>2073</th>\n",
       "      <td>2</td>\n",
       "      <td>1</td>\n",
       "      <td>True</td>\n",
       "      <td>5300</td>\n",
       "      <td>0</td>\n",
       "      <td>False</td>\n",
       "      <td>0</td>\n",
       "      <td>6</td>\n",
       "      <td>0</td>\n",
       "      <td>0</td>\n",
       "      <td>...</td>\n",
       "      <td>2325953278</td>\n",
       "      <td>2325958578</td>\n",
       "      <td>2.325956e+09</td>\n",
       "      <td>2.325956e+09</td>\n",
       "      <td>3.747666e+03</td>\n",
       "      <td>5300</td>\n",
       "      <td>5300</td>\n",
       "      <td>5.300000e+03</td>\n",
       "      <td>5300.0</td>\n",
       "      <td>NaN</td>\n",
       "    </tr>\n",
       "  </tbody>\n",
       "</table>\n",
       "<p>2074 rows × 23 columns</p>\n",
       "</div>"
      ],
      "text/plain": [
       "      generation  parents_count   dead    lifespan  children_count  \\\n",
       "id                                                                   \n",
       "0              0              1   True   612959555               0   \n",
       "1              0              1   True   241858366               0   \n",
       "2              0              1   True  2208321178               1   \n",
       "3              0              1  False  2266893132               2   \n",
       "4              0              1   True  2201442034               1   \n",
       "...          ...            ...    ...         ...             ...   \n",
       "2069           2              1   True        4569               0   \n",
       "2070           2              1   True        4258               0   \n",
       "2071           1              1   True        4579               0   \n",
       "2072           2              1   True        5120               0   \n",
       "2073           2              1   True        5300               0   \n",
       "\n",
       "      birth_success  travelled_distance  actions_count  min_decision_duration  \\\n",
       "id                                                                              \n",
       "0              True                  29              6                      0   \n",
       "1              True                   0              6                      0   \n",
       "2              True                  25              6                      0   \n",
       "3              True                  15              6                      0   \n",
       "4              True                  48              6                      0   \n",
       "...             ...                 ...            ...                    ...   \n",
       "2069          False                   0              6                      0   \n",
       "2070          False                   0              6                      0   \n",
       "2071          False                   0              6                      0   \n",
       "2072          False                   0              6                      0   \n",
       "2073          False                   0              6                      0   \n",
       "\n",
       "      max_decision_duration  ...  min_action_duration  max_action_duration  \\\n",
       "id                           ...                                             \n",
       "0                     95761  ...                  731            712713353   \n",
       "1                     21291  ...                 8015            341652931   \n",
       "2                     41007  ...                 1282           2308177800   \n",
       "3                     36369  ...                 1072           1775069871   \n",
       "4                  20400072  ...                 3858           2301348921   \n",
       "...                     ...  ...                  ...                  ...   \n",
       "2069                      0  ...           2325643252           2325647821   \n",
       "2070                      0  ...           2325711692           2325715950   \n",
       "2071                      0  ...           2325785581           2325790160   \n",
       "2072                      0  ...           2325873497           2325878617   \n",
       "2073                      0  ...           2325953278           2325958578   \n",
       "\n",
       "      mean_action_duration  median_action_duration  std_action_duration  \\\n",
       "id                                                                        \n",
       "0             1.240930e+07            6.477000e+03         8.251651e+07   \n",
       "1             1.540896e+08            1.373488e+08         1.441091e+08   \n",
       "2             4.725771e+07            6.382000e+03         2.963129e+08   \n",
       "3             5.841982e+07            6.813000e+03         2.923859e+08   \n",
       "4             5.217287e+07            6.833000e+03         3.129591e+08   \n",
       "...                    ...                     ...                  ...   \n",
       "2069          2.325646e+09            2.325646e+09         3.230771e+03   \n",
       "2070          2.325714e+09            2.325714e+09         3.010861e+03   \n",
       "2071          2.325788e+09            2.325788e+09         3.237842e+03   \n",
       "2072          2.325876e+09            2.325876e+09         3.620387e+03   \n",
       "2073          2.325956e+09            2.325956e+09         3.747666e+03   \n",
       "\n",
       "      min_round_duration  max_round_duration  mean_round_duration  \\\n",
       "id                                                                  \n",
       "0                   3577            80015725         7.758982e+06   \n",
       "1                   4218           166745694         8.061946e+07   \n",
       "2                   2575          1579875826         2.538300e+07   \n",
       "3                 167737          1775241775         6.042187e+07   \n",
       "4                   2825          1653978692         2.751803e+07   \n",
       "...                  ...                 ...                  ...   \n",
       "2069                4569                4569         4.569000e+03   \n",
       "2070                4258                4258         4.258000e+03   \n",
       "2071                4579                4579         4.579000e+03   \n",
       "2072                5120                5120         5.120000e+03   \n",
       "2073                5300                5300         5.300000e+03   \n",
       "\n",
       "      median_round_duration  std_round_duration  \n",
       "id                                               \n",
       "0                 5212528.0        9.533286e+06  \n",
       "1                75108454.0        8.350724e+07  \n",
       "2                 5172913.0        1.688654e+08  \n",
       "3                 5184555.0        2.947711e+08  \n",
       "4                 5162203.0        1.843809e+08  \n",
       "...                     ...                 ...  \n",
       "2069                 4569.0                 NaN  \n",
       "2070                 4258.0                 NaN  \n",
       "2071                 4579.0                 NaN  \n",
       "2072                 5120.0                 NaN  \n",
       "2073                 5300.0                 NaN  \n",
       "\n",
       "[2074 rows x 23 columns]"
      ]
     },
     "execution_count": 5,
     "metadata": {},
     "output_type": "execute_result"
    }
   ],
   "source": [
    "data[\"agents_statistics\"]"
   ]
  },
  {
   "cell_type": "code",
   "execution_count": 6,
   "metadata": {},
   "outputs": [],
   "source": [
    "data[\"agents_statistics\"].to_csv(\"results/data.csv\")"
   ]
  },
  {
   "cell_type": "code",
   "execution_count": 7,
   "metadata": {},
   "outputs": [
    {
     "data": {
      "text/html": [
       "<div>\n",
       "<style scoped>\n",
       "    .dataframe tbody tr th:only-of-type {\n",
       "        vertical-align: middle;\n",
       "    }\n",
       "\n",
       "    .dataframe tbody tr th {\n",
       "        vertical-align: top;\n",
       "    }\n",
       "\n",
       "    .dataframe thead th {\n",
       "        text-align: right;\n",
       "    }\n",
       "</style>\n",
       "<table border=\"1\" class=\"dataframe\">\n",
       "  <thead>\n",
       "    <tr style=\"text-align: right;\">\n",
       "      <th></th>\n",
       "      <th>min</th>\n",
       "      <th>max</th>\n",
       "      <th>mean</th>\n",
       "      <th>median</th>\n",
       "      <th>std</th>\n",
       "    </tr>\n",
       "    <tr>\n",
       "      <th>data</th>\n",
       "      <th></th>\n",
       "      <th></th>\n",
       "      <th></th>\n",
       "      <th></th>\n",
       "      <th></th>\n",
       "    </tr>\n",
       "  </thead>\n",
       "  <tbody>\n",
       "    <tr>\n",
       "      <th>lifespan</th>\n",
       "      <td>2374</td>\n",
       "      <td>2266893132</td>\n",
       "      <td>9.320199e+08</td>\n",
       "      <td>4.228130e+08</td>\n",
       "      <td>9.627881e+08</td>\n",
       "    </tr>\n",
       "    <tr>\n",
       "      <th>children_count</th>\n",
       "      <td>0</td>\n",
       "      <td>3</td>\n",
       "      <td>5.178399e-01</td>\n",
       "      <td>0.000000e+00</td>\n",
       "      <td>6.014294e-01</td>\n",
       "    </tr>\n",
       "    <tr>\n",
       "      <th>birth_success</th>\n",
       "      <td>False</td>\n",
       "      <td>True</td>\n",
       "      <td>6.711668e-01</td>\n",
       "      <td>1.000000e+00</td>\n",
       "      <td>4.699025e-01</td>\n",
       "    </tr>\n",
       "    <tr>\n",
       "      <th>travelled_distance</th>\n",
       "      <td>0</td>\n",
       "      <td>160</td>\n",
       "      <td>8.133558e+00</td>\n",
       "      <td>2.000000e+00</td>\n",
       "      <td>1.476139e+01</td>\n",
       "    </tr>\n",
       "    <tr>\n",
       "      <th>actions_count</th>\n",
       "      <td>6</td>\n",
       "      <td>6</td>\n",
       "      <td>6.000000e+00</td>\n",
       "      <td>6.000000e+00</td>\n",
       "      <td>0.000000e+00</td>\n",
       "    </tr>\n",
       "    <tr>\n",
       "      <th>mean_decision_duration</th>\n",
       "      <td>0.0</td>\n",
       "      <td>63174571.0</td>\n",
       "      <td>5.421175e+05</td>\n",
       "      <td>1.384830e+04</td>\n",
       "      <td>3.487615e+06</td>\n",
       "    </tr>\n",
       "    <tr>\n",
       "      <th>mean_action_duration</th>\n",
       "      <td>635987.219713</td>\n",
       "      <td>2325955928.0</td>\n",
       "      <td>8.924358e+08</td>\n",
       "      <td>2.913312e+08</td>\n",
       "      <td>9.817706e+08</td>\n",
       "    </tr>\n",
       "    <tr>\n",
       "      <th>mean_round_duration</th>\n",
       "      <td>2374.0</td>\n",
       "      <td>1089120934.5</td>\n",
       "      <td>8.722122e+07</td>\n",
       "      <td>1.160759e+07</td>\n",
       "      <td>1.517554e+08</td>\n",
       "    </tr>\n",
       "  </tbody>\n",
       "</table>\n",
       "</div>"
      ],
      "text/plain": [
       "                                  min           max          mean  \\\n",
       "data                                                                \n",
       "lifespan                         2374    2266893132  9.320199e+08   \n",
       "children_count                      0             3  5.178399e-01   \n",
       "birth_success                   False          True  6.711668e-01   \n",
       "travelled_distance                  0           160  8.133558e+00   \n",
       "actions_count                       6             6  6.000000e+00   \n",
       "mean_decision_duration            0.0    63174571.0  5.421175e+05   \n",
       "mean_action_duration    635987.219713  2325955928.0  8.924358e+08   \n",
       "mean_round_duration            2374.0  1089120934.5  8.722122e+07   \n",
       "\n",
       "                              median           std  \n",
       "data                                                \n",
       "lifespan                4.228130e+08  9.627881e+08  \n",
       "children_count          0.000000e+00  6.014294e-01  \n",
       "birth_success           1.000000e+00  4.699025e-01  \n",
       "travelled_distance      2.000000e+00  1.476139e+01  \n",
       "actions_count           6.000000e+00  0.000000e+00  \n",
       "mean_decision_duration  1.384830e+04  3.487615e+06  \n",
       "mean_action_duration    2.913312e+08  9.817706e+08  \n",
       "mean_round_duration     1.160759e+07  1.517554e+08  "
      ]
     },
     "execution_count": 7,
     "metadata": {},
     "output_type": "execute_result"
    }
   ],
   "source": [
    "data[\"population_statistics\"]"
   ]
  },
  {
   "cell_type": "markdown",
   "metadata": {},
   "source": [
    "#### Plotting some stats"
   ]
  },
  {
   "cell_type": "code",
   "execution_count": 8,
   "metadata": {},
   "outputs": [
    {
     "data": {
      "image/png": "[encoded data removed]",
      "text/plain": [
       "<Figure size 1400x1000 with 6 Axes>"
      ]
     },
     "metadata": {},
     "output_type": "display_data"
    }
   ],
   "source": [
    "lab.plot_generation_stats(data)"
   ]
  },
  {
   "cell_type": "markdown",
   "metadata": {},
   "source": [
    "### Timelines"
   ]
  },
  {
   "cell_type": "markdown",
   "metadata": {},
   "source": [
    "#### Population count"
   ]
  },
  {
   "cell_type": "code",
   "execution_count": 9,
   "metadata": {},
   "outputs": [
    {
     "data": {
      "image/png": "[encoded data removed]",
      "text/plain": [
       "<Figure size 640x480 with 1 Axes>"
      ]
     },
     "metadata": {},
     "output_type": "display_data"
    }
   ],
   "source": [
    "from matplotlib import pyplot as plt  # TODO Move to Lab\n",
    "data[\"population_timeline\"].plot(y=\"population_count\", legend=False)\n",
    "plt.title('Population Count Over Time')\n",
    "plt.xlabel('Time')\n",
    "plt.ylabel('Population Count')\n",
    "plt.show()"
   ]
  },
  {
   "cell_type": "markdown",
   "metadata": {},
   "source": [
    "#### Spatial evolution"
   ]
  },
  {
   "cell_type": "code",
   "execution_count": 10,
   "metadata": {},
   "outputs": [
    {
     "data": {
      "image/png": "[encoded data removed]",
      "text/plain": [
       "<Figure size 640x480 with 1 Axes>"
      ]
     },
     "metadata": {},
     "output_type": "display_data"
    },
    {
     "name": "stdout",
     "output_type": "stream",
     "text": [
      "1172\n"
     ]
    }
   ],
   "source": [
    "import matplotlib.pyplot as plt\n",
    "\n",
    "positions = data[\"positions\"][0]\n",
    "\n",
    "plt.plot(range(len(positions)), positions)\n",
    "plt.xlabel('Frame')\n",
    "plt.ylabel('Time')\n",
    "plt.title('Time vs Frames')\n",
    "plt.grid(True)\n",
    "plt.show()\n",
    "print(len(data[\"positions\"][1]))"
   ]
  },
  {
   "cell_type": "code",
   "execution_count": 11,
   "metadata": {},
   "outputs": [],
   "source": [
    "import imageio\n",
    "\n",
    "\n",
    "gif_path = \"results/output.gif\"\n",
    "imageio.mimsave(gif_path, data[\"positions\"][1], duration=0.01, loop=0)"
   ]
  },
  {
   "cell_type": "code",
   "execution_count": 12,
   "metadata": {},
   "outputs": [
    {
     "data": {
      "text/html": [
       "<img src=\"results/output.gif\" width=\"1000\" style=\"image-rendering: pixelated;\">"
      ],
      "text/plain": [
       "<IPython.core.display.HTML object>"
      ]
     },
     "execution_count": 12,
     "metadata": {},
     "output_type": "execute_result"
    }
   ],
   "source": [
    "from IPython.display import HTML\n",
    "width = 1000\n",
    "# Generate HTML to display the GIF with specified width and interpolation\n",
    "html_code = f'<img src=\"{gif_path}\" width=\"{width}\" style=\"image-rendering: pixelated;\">'\n",
    "HTML(html_code)"
   ]
  },
  {
   "cell_type": "code",
   "execution_count": 13,
   "metadata": {},
   "outputs": [],
   "source": [
    "import numpy as np\n",
    "import tifffile\n",
    "\n",
    "# Convert the list of 2D arrays into a 3D numpy array\n",
    "stack_3d = np.stack(data[\"positions\"][1], axis=0)\n",
    "\n",
    "# Save the stack as a TIFF file\n",
    "tifffile.imwrite('results/stacks/positions.tif', stack_3d)"
   ]
  },
  {
   "cell_type": "code",
   "execution_count": 14,
   "metadata": {},
   "outputs": [],
   "source": [
    "import json\n",
    "\n",
    "with open('results/positions.json', 'w') as json_file:\n",
    "    json.dump(data[\"positions\"][2], json_file)"
   ]
  },
  {
   "cell_type": "code",
   "execution_count": 15,
   "metadata": {},
   "outputs": [],
   "source": [
    "import json\n",
    "\n",
    "with open('results/timestamps.json', 'w') as json_file:\n",
    "    json.dump(data[\"positions\"][0], json_file)"
   ]
  },
  {
   "cell_type": "code",
   "execution_count": 16,
   "metadata": {},
   "outputs": [
    {
     "data": {
      "text/plain": [
       "1172"
      ]
     },
     "execution_count": 16,
     "metadata": {},
     "output_type": "execute_result"
    }
   ],
   "source": [
    "len(data[\"positions\"][2])"
   ]
  },
  {
   "cell_type": "code",
   "execution_count": 17,
   "metadata": {},
   "outputs": [
    {
     "data": {
      "text/plain": [
       "1172"
      ]
     },
     "execution_count": 17,
     "metadata": {},
     "output_type": "execute_result"
    }
   ],
   "source": [
    "len(data[\"positions\"][0])"
   ]
  },
  {
   "cell_type": "code",
   "execution_count": 18,
   "metadata": {},
   "outputs": [
    {
     "name": "stdout",
     "output_type": "stream",
     "text": [
      "[ 174708542  176848050  177771342 ... 2253555109 2258591294 2258779910]\n",
      "[1 2 2 ... 1 1 1]\n"
     ]
    },
    {
     "data": {
      "text/plain": [
       "[<matplotlib.lines.Line2D at 0x7fd794472490>]"
      ]
     },
     "execution_count": 18,
     "metadata": {},
     "output_type": "execute_result"
    },
    {
     "data": {
      "image/png": "[encoded data removed]",
      "text/plain": [
       "<Figure size 640x480 with 1 Axes>"
      ]
     },
     "metadata": {},
     "output_type": "display_data"
    }
   ],
   "source": [
    "unique_values, counts = np.unique(data[\"positions\"][0], return_counts=True)\n",
    "print(unique_values)\n",
    "print(counts)\n",
    "# Creating bar plot\n",
    "plt.plot(counts)\n"
   ]
  },
  {
   "cell_type": "markdown",
   "metadata": {},
   "source": [
    "#### Actions"
   ]
  },
  {
   "cell_type": "code",
   "execution_count": 19,
   "metadata": {},
   "outputs": [
    {
     "data": {
      "text/html": [
       "<div>\n",
       "<style scoped>\n",
       "    .dataframe tbody tr th:only-of-type {\n",
       "        vertical-align: middle;\n",
       "    }\n",
       "\n",
       "    .dataframe tbody tr th {\n",
       "        vertical-align: top;\n",
       "    }\n",
       "\n",
       "    .dataframe thead th {\n",
       "        text-align: right;\n",
       "    }\n",
       "</style>\n",
       "<table border=\"1\" class=\"dataframe\">\n",
       "  <thead>\n",
       "    <tr style=\"text-align: right;\">\n",
       "      <th></th>\n",
       "      <th>reaction_time</th>\n",
       "      <th>decision_time</th>\n",
       "      <th>decision</th>\n",
       "      <th>action_time</th>\n",
       "      <th>action_success</th>\n",
       "    </tr>\n",
       "    <tr>\n",
       "      <th>id</th>\n",
       "      <th></th>\n",
       "      <th></th>\n",
       "      <th></th>\n",
       "      <th></th>\n",
       "      <th></th>\n",
       "    </tr>\n",
       "  </thead>\n",
       "  <tbody>\n",
       "    <tr>\n",
       "      <th>0</th>\n",
       "      <td>0</td>\n",
       "      <td>0</td>\n",
       "      <td>Abilities.spawn</td>\n",
       "      <td>99753798</td>\n",
       "      <td>True</td>\n",
       "    </tr>\n",
       "    <tr>\n",
       "      <th>0</th>\n",
       "      <td>0</td>\n",
       "      <td>0</td>\n",
       "      <td>Abilities.start</td>\n",
       "      <td>179769523</td>\n",
       "      <td>True</td>\n",
       "    </tr>\n",
       "    <tr>\n",
       "      <th>0</th>\n",
       "      <td>184978254</td>\n",
       "      <td>185000496</td>\n",
       "      <td>Abilities.idle</td>\n",
       "      <td>185003522</td>\n",
       "      <td>True</td>\n",
       "    </tr>\n",
       "    <tr>\n",
       "      <th>0</th>\n",
       "      <td>190215849</td>\n",
       "      <td>190231399</td>\n",
       "      <td>Abilities.eat_top</td>\n",
       "      <td>190236288</td>\n",
       "      <td>False</td>\n",
       "    </tr>\n",
       "    <tr>\n",
       "      <th>0</th>\n",
       "      <td>195374465</td>\n",
       "      <td>195407317</td>\n",
       "      <td>Abilities.eat_left</td>\n",
       "      <td>195417647</td>\n",
       "      <td>False</td>\n",
       "    </tr>\n",
       "    <tr>\n",
       "      <th>...</th>\n",
       "      <td>...</td>\n",
       "      <td>...</td>\n",
       "      <td>...</td>\n",
       "      <td>...</td>\n",
       "      <td>...</td>\n",
       "    </tr>\n",
       "    <tr>\n",
       "      <th>2071</th>\n",
       "      <td>0</td>\n",
       "      <td>0</td>\n",
       "      <td>Abilities.die</td>\n",
       "      <td>2325790160</td>\n",
       "      <td>True</td>\n",
       "    </tr>\n",
       "    <tr>\n",
       "      <th>2072</th>\n",
       "      <td>0</td>\n",
       "      <td>0</td>\n",
       "      <td>Abilities.spawn</td>\n",
       "      <td>2325873497</td>\n",
       "      <td>True</td>\n",
       "    </tr>\n",
       "    <tr>\n",
       "      <th>2072</th>\n",
       "      <td>0</td>\n",
       "      <td>0</td>\n",
       "      <td>Abilities.die</td>\n",
       "      <td>2325878617</td>\n",
       "      <td>True</td>\n",
       "    </tr>\n",
       "    <tr>\n",
       "      <th>2073</th>\n",
       "      <td>0</td>\n",
       "      <td>0</td>\n",
       "      <td>Abilities.spawn</td>\n",
       "      <td>2325953278</td>\n",
       "      <td>True</td>\n",
       "    </tr>\n",
       "    <tr>\n",
       "      <th>2073</th>\n",
       "      <td>0</td>\n",
       "      <td>0</td>\n",
       "      <td>Abilities.die</td>\n",
       "      <td>2325958578</td>\n",
       "      <td>True</td>\n",
       "    </tr>\n",
       "  </tbody>\n",
       "</table>\n",
       "<p>54240 rows × 5 columns</p>\n",
       "</div>"
      ],
      "text/plain": [
       "      reaction_time  decision_time            decision  action_time  \\\n",
       "id                                                                    \n",
       "0                 0              0     Abilities.spawn     99753798   \n",
       "0                 0              0     Abilities.start    179769523   \n",
       "0         184978254      185000496      Abilities.idle    185003522   \n",
       "0         190215849      190231399   Abilities.eat_top    190236288   \n",
       "0         195374465      195407317  Abilities.eat_left    195417647   \n",
       "...             ...            ...                 ...          ...   \n",
       "2071              0              0       Abilities.die   2325790160   \n",
       "2072              0              0     Abilities.spawn   2325873497   \n",
       "2072              0              0       Abilities.die   2325878617   \n",
       "2073              0              0     Abilities.spawn   2325953278   \n",
       "2073              0              0       Abilities.die   2325958578   \n",
       "\n",
       "      action_success  \n",
       "id                    \n",
       "0               True  \n",
       "0               True  \n",
       "0               True  \n",
       "0              False  \n",
       "0              False  \n",
       "...              ...  \n",
       "2071            True  \n",
       "2072            True  \n",
       "2072            True  \n",
       "2073            True  \n",
       "2073            True  \n",
       "\n",
       "[54240 rows x 5 columns]"
      ]
     },
     "execution_count": 19,
     "metadata": {},
     "output_type": "execute_result"
    }
   ],
   "source": [
    "timeline = lab.get_timeline(simulation)\n",
    "timeline"
   ]
  },
  {
   "cell_type": "code",
   "execution_count": 20,
   "metadata": {},
   "outputs": [
    {
     "data": {
      "text/html": [
       "<div>\n",
       "<style scoped>\n",
       "    .dataframe tbody tr th:only-of-type {\n",
       "        vertical-align: middle;\n",
       "    }\n",
       "\n",
       "    .dataframe tbody tr th {\n",
       "        vertical-align: top;\n",
       "    }\n",
       "\n",
       "    .dataframe thead th {\n",
       "        text-align: right;\n",
       "    }\n",
       "</style>\n",
       "<table border=\"1\" class=\"dataframe\">\n",
       "  <thead>\n",
       "    <tr style=\"text-align: right;\">\n",
       "      <th></th>\n",
       "      <th>reaction_time</th>\n",
       "      <th>decision_time</th>\n",
       "      <th>decision</th>\n",
       "      <th>action_time</th>\n",
       "      <th>action_success</th>\n",
       "    </tr>\n",
       "    <tr>\n",
       "      <th>id</th>\n",
       "      <th></th>\n",
       "      <th></th>\n",
       "      <th></th>\n",
       "      <th></th>\n",
       "      <th></th>\n",
       "    </tr>\n",
       "  </thead>\n",
       "  <tbody>\n",
       "    <tr>\n",
       "      <th>0</th>\n",
       "      <td>0</td>\n",
       "      <td>0</td>\n",
       "      <td>Abilities.spawn</td>\n",
       "      <td>99753798</td>\n",
       "      <td>True</td>\n",
       "    </tr>\n",
       "    <tr>\n",
       "      <th>1</th>\n",
       "      <td>0</td>\n",
       "      <td>0</td>\n",
       "      <td>Abilities.spawn</td>\n",
       "      <td>99794565</td>\n",
       "      <td>True</td>\n",
       "    </tr>\n",
       "    <tr>\n",
       "      <th>2</th>\n",
       "      <td>0</td>\n",
       "      <td>0</td>\n",
       "      <td>Abilities.spawn</td>\n",
       "      <td>99856622</td>\n",
       "      <td>True</td>\n",
       "    </tr>\n",
       "    <tr>\n",
       "      <th>3</th>\n",
       "      <td>0</td>\n",
       "      <td>0</td>\n",
       "      <td>Abilities.spawn</td>\n",
       "      <td>99881098</td>\n",
       "      <td>True</td>\n",
       "    </tr>\n",
       "    <tr>\n",
       "      <th>4</th>\n",
       "      <td>0</td>\n",
       "      <td>0</td>\n",
       "      <td>Abilities.spawn</td>\n",
       "      <td>99906887</td>\n",
       "      <td>True</td>\n",
       "    </tr>\n",
       "    <tr>\n",
       "      <th>...</th>\n",
       "      <td>...</td>\n",
       "      <td>...</td>\n",
       "      <td>...</td>\n",
       "      <td>...</td>\n",
       "      <td>...</td>\n",
       "    </tr>\n",
       "    <tr>\n",
       "      <th>2072</th>\n",
       "      <td>0</td>\n",
       "      <td>0</td>\n",
       "      <td>Abilities.die</td>\n",
       "      <td>2325878617</td>\n",
       "      <td>True</td>\n",
       "    </tr>\n",
       "    <tr>\n",
       "      <th>1388</th>\n",
       "      <td>2218897740</td>\n",
       "      <td>2218928598</td>\n",
       "      <td>Abilities.reproduce</td>\n",
       "      <td>2325888225</td>\n",
       "      <td>False</td>\n",
       "    </tr>\n",
       "    <tr>\n",
       "      <th>2073</th>\n",
       "      <td>0</td>\n",
       "      <td>0</td>\n",
       "      <td>Abilities.spawn</td>\n",
       "      <td>2325953278</td>\n",
       "      <td>True</td>\n",
       "    </tr>\n",
       "    <tr>\n",
       "      <th>2073</th>\n",
       "      <td>0</td>\n",
       "      <td>0</td>\n",
       "      <td>Abilities.die</td>\n",
       "      <td>2325958578</td>\n",
       "      <td>True</td>\n",
       "    </tr>\n",
       "    <tr>\n",
       "      <th>1421</th>\n",
       "      <td>2220147468</td>\n",
       "      <td>2220158249</td>\n",
       "      <td>Abilities.reproduce</td>\n",
       "      <td>2325965020</td>\n",
       "      <td>False</td>\n",
       "    </tr>\n",
       "  </tbody>\n",
       "</table>\n",
       "<p>54240 rows × 5 columns</p>\n",
       "</div>"
      ],
      "text/plain": [
       "      reaction_time  decision_time             decision  action_time  \\\n",
       "id                                                                     \n",
       "0                 0              0      Abilities.spawn     99753798   \n",
       "1                 0              0      Abilities.spawn     99794565   \n",
       "2                 0              0      Abilities.spawn     99856622   \n",
       "3                 0              0      Abilities.spawn     99881098   \n",
       "4                 0              0      Abilities.spawn     99906887   \n",
       "...             ...            ...                  ...          ...   \n",
       "2072              0              0        Abilities.die   2325878617   \n",
       "1388     2218897740     2218928598  Abilities.reproduce   2325888225   \n",
       "2073              0              0      Abilities.spawn   2325953278   \n",
       "2073              0              0        Abilities.die   2325958578   \n",
       "1421     2220147468     2220158249  Abilities.reproduce   2325965020   \n",
       "\n",
       "      action_success  \n",
       "id                    \n",
       "0               True  \n",
       "1               True  \n",
       "2               True  \n",
       "3               True  \n",
       "4               True  \n",
       "...              ...  \n",
       "2072            True  \n",
       "1388           False  \n",
       "2073            True  \n",
       "2073            True  \n",
       "1421           False  \n",
       "\n",
       "[54240 rows x 5 columns]"
      ]
     },
     "execution_count": 20,
     "metadata": {},
     "output_type": "execute_result"
    }
   ],
   "source": [
    "timeline = timeline.sort_values(by=\"action_time\")\n",
    "timeline"
   ]
  },
  {
   "cell_type": "code",
   "execution_count": 21,
   "metadata": {},
   "outputs": [],
   "source": [
    "timeline.to_csv(\"results/timeline.csv\")"
   ]
  },
  {
   "cell_type": "code",
   "execution_count": 22,
   "metadata": {},
   "outputs": [],
   "source": [
    "agents_data = lab.get_agents_data(simulation)\n",
    "agents_data.to_csv(\"results/agents_data.csv\")"
   ]
  },
  {
   "cell_type": "markdown",
   "metadata": {},
   "source": [
    "### Relations"
   ]
  },
  {
   "cell_type": "code",
   "execution_count": 23,
   "metadata": {},
   "outputs": [
    {
     "name": "stdout",
     "output_type": "stream",
     "text": [
      "Warning: When  cdn_resources is 'local' jupyter notebook has issues displaying graphics on chrome/safari. Use cdn_resources='in_line' or cdn_resources='remote' if you have issues viewing graphics in a notebook.\n"
     ]
    }
   ],
   "source": [
    "from pyvis.network import Network\n",
    "\n",
    "g = Network(notebook=True)\n",
    "g.add_nodes([1,2,3], value=[10, 100, 400],\n",
    "                         title=['I am node 1', 'node 2 here', 'and im node 3'],\n",
    "                         x=[21.4, 54.2, 11.2],\n",
    "                         y=[100.2, 23.54, 32.1],\n",
    "                         label=['NODE 1', 'NODE 2', 'NODE 3'],\n",
    "                         color=['#00ff1e', '#162347', '#dd4b39'])\n",
    "\n",
    "#g.show('results/relations.html')"
   ]
  },
  {
   "cell_type": "markdown",
   "metadata": {},
   "source": [
    "## Miscellaneous"
   ]
  },
  {
   "cell_type": "code",
   "execution_count": 24,
   "metadata": {},
   "outputs": [
    {
     "ename": "IndexError",
     "evalue": "string index out of range",
     "output_type": "error",
     "traceback": [
      "\u001b[0;31m---------------------------------------------------------------------------\u001b[0m",
      "\u001b[0;31mIndexError\u001b[0m                                Traceback (most recent call last)",
      "Cell \u001b[0;32mIn[24], line 4\u001b[0m\n\u001b[1;32m      1\u001b[0m \u001b[38;5;28;01mfrom\u001b[39;00m \u001b[38;5;21;01msrc\u001b[39;00m\u001b[38;5;21;01m.\u001b[39;00m\u001b[38;5;21;01mBrain\u001b[39;00m \u001b[38;5;28;01mimport\u001b[39;00m Abilities\n\u001b[1;32m      3\u001b[0m eat \u001b[38;5;241m=\u001b[39m [Abilities\u001b[38;5;241m.\u001b[39meat_bot, Abilities\u001b[38;5;241m.\u001b[39meat_right, Abilities\u001b[38;5;241m.\u001b[39meat_left, Abilities\u001b[38;5;241m.\u001b[39meat_top]\n\u001b[0;32m----> 4\u001b[0m eating \u001b[38;5;241m=\u001b[39m \u001b[43m[\u001b[49m\u001b[43ma\u001b[49m\u001b[43m \u001b[49m\u001b[38;5;28;43;01mfor\u001b[39;49;00m\u001b[43m \u001b[49m\u001b[43ma\u001b[49m\u001b[43m \u001b[49m\u001b[38;5;129;43;01min\u001b[39;49;00m\u001b[43m \u001b[49m\u001b[43msimulation\u001b[49m\u001b[43m[\u001b[49m\u001b[38;5;124;43m\"\u001b[39;49m\u001b[38;5;124;43muniverse\u001b[39;49m\u001b[38;5;124;43m\"\u001b[39;49m\u001b[43m]\u001b[49m\u001b[38;5;241;43m.\u001b[39;49m\u001b[43mpopulation\u001b[49m\u001b[43m[\u001b[49m\u001b[38;5;241;43m11\u001b[39;49m\u001b[43m]\u001b[49m\u001b[38;5;241;43m.\u001b[39;49m\u001b[43mactions\u001b[49m\u001b[43m \u001b[49m\u001b[38;5;28;43;01mif\u001b[39;49;00m\u001b[43m \u001b[49m\u001b[43ma\u001b[49m\u001b[43m[\u001b[49m\u001b[38;5;241;43m2\u001b[39;49m\u001b[43m]\u001b[49m\u001b[43m \u001b[49m\u001b[38;5;129;43;01min\u001b[39;49;00m\u001b[43m \u001b[49m\u001b[43meat\u001b[49m\u001b[43m]\u001b[49m\n\u001b[1;32m      5\u001b[0m eating_success \u001b[38;5;241m=\u001b[39m [a \u001b[38;5;28;01mfor\u001b[39;00m a \u001b[38;5;129;01min\u001b[39;00m eating \u001b[38;5;28;01mif\u001b[39;00m a[\u001b[38;5;241m4\u001b[39m]]\n\u001b[1;32m      6\u001b[0m \u001b[38;5;28mprint\u001b[39m(\u001b[38;5;28mlen\u001b[39m(simulation[\u001b[38;5;124m\"\u001b[39m\u001b[38;5;124muniverse\u001b[39m\u001b[38;5;124m\"\u001b[39m]\u001b[38;5;241m.\u001b[39mpopulation[\u001b[38;5;241m11\u001b[39m]\u001b[38;5;241m.\u001b[39mactions), \u001b[38;5;28mlen\u001b[39m(eating), \u001b[38;5;28mlen\u001b[39m(eating_success))\n",
      "Cell \u001b[0;32mIn[24], line 4\u001b[0m, in \u001b[0;36m<listcomp>\u001b[0;34m(.0)\u001b[0m\n\u001b[1;32m      1\u001b[0m \u001b[38;5;28;01mfrom\u001b[39;00m \u001b[38;5;21;01msrc\u001b[39;00m\u001b[38;5;21;01m.\u001b[39;00m\u001b[38;5;21;01mBrain\u001b[39;00m \u001b[38;5;28;01mimport\u001b[39;00m Abilities\n\u001b[1;32m      3\u001b[0m eat \u001b[38;5;241m=\u001b[39m [Abilities\u001b[38;5;241m.\u001b[39meat_bot, Abilities\u001b[38;5;241m.\u001b[39meat_right, Abilities\u001b[38;5;241m.\u001b[39meat_left, Abilities\u001b[38;5;241m.\u001b[39meat_top]\n\u001b[0;32m----> 4\u001b[0m eating \u001b[38;5;241m=\u001b[39m [a \u001b[38;5;28;01mfor\u001b[39;00m a \u001b[38;5;129;01min\u001b[39;00m simulation[\u001b[38;5;124m\"\u001b[39m\u001b[38;5;124muniverse\u001b[39m\u001b[38;5;124m\"\u001b[39m]\u001b[38;5;241m.\u001b[39mpopulation[\u001b[38;5;241m11\u001b[39m]\u001b[38;5;241m.\u001b[39mactions \u001b[38;5;28;01mif\u001b[39;00m \u001b[43ma\u001b[49m\u001b[43m[\u001b[49m\u001b[38;5;241;43m2\u001b[39;49m\u001b[43m]\u001b[49m \u001b[38;5;129;01min\u001b[39;00m eat]\n\u001b[1;32m      5\u001b[0m eating_success \u001b[38;5;241m=\u001b[39m [a \u001b[38;5;28;01mfor\u001b[39;00m a \u001b[38;5;129;01min\u001b[39;00m eating \u001b[38;5;28;01mif\u001b[39;00m a[\u001b[38;5;241m4\u001b[39m]]\n\u001b[1;32m      6\u001b[0m \u001b[38;5;28mprint\u001b[39m(\u001b[38;5;28mlen\u001b[39m(simulation[\u001b[38;5;124m\"\u001b[39m\u001b[38;5;124muniverse\u001b[39m\u001b[38;5;124m\"\u001b[39m]\u001b[38;5;241m.\u001b[39mpopulation[\u001b[38;5;241m11\u001b[39m]\u001b[38;5;241m.\u001b[39mactions), \u001b[38;5;28mlen\u001b[39m(eating), \u001b[38;5;28mlen\u001b[39m(eating_success))\n",
      "\u001b[0;31mIndexError\u001b[0m: string index out of range"
     ]
    }
   ],
   "source": [
    "from src.Brain import Abilities\n",
    "\n",
    "eat = [Abilities.eat_bot, Abilities.eat_right, Abilities.eat_left, Abilities.eat_top]\n",
    "eating = [a for a in simulation[\"universe\"].population[11].actions if a[2] in eat]\n",
    "eating_success = [a for a in eating if a[4]]\n",
    "print(len(simulation[\"universe\"].population[11].actions), len(eating), len(eating_success))\n",
    "for a in eating_success:\n",
    "    print(a)"
   ]
  },
  {
   "cell_type": "code",
   "execution_count": null,
   "metadata": {},
   "outputs": [],
   "source": [
    "max_death_date = 0\n",
    "last_dead = -1\n",
    "\n",
    "for a in simulation[\"universe\"].population.values():\n",
    "    if a.death_date > max_death_date:\n",
    "        max_death_date = a.death_date\n",
    "        last_dead = a.id\n",
    "simulation[\"universe\"].population[last_dead].phenome.color"
   ]
  }
 ],
 "metadata": {
  "kernelspec": {
   "display_name": "Python 3 (ipykernel)",
   "language": "python",
   "name": "python3"
  },
  "language_info": {
   "codemirror_mode": {
    "name": "ipython",
    "version": 3
   },
   "file_extension": ".py",
   "mimetype": "text/x-python",
   "name": "python",
   "nbconvert_exporter": "python",
   "pygments_lexer": "ipython3",
   "version": "3.11.8"
  }
 },
 "nbformat": 4,
 "nbformat_minor": 4
}
