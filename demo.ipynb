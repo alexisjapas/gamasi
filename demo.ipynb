{
 "cells": [
  {
   "cell_type": "markdown",
   "metadata": {},
   "source": [
    "# GAMASI: Generic Asynchronous Multi-Agent Simulation Invoker"
   ]
  },
  {
   "cell_type": "markdown",
   "metadata": {},
   "source": [
    "## Running simulation"
   ]
  },
  {
   "cell_type": "code",
   "execution_count": 1,
   "metadata": {},
   "outputs": [],
   "source": [
    "import numpy as np\n",
    "\n",
    "from src.Lab import Lab\n",
    "\n",
    "lab = Lab()"
   ]
  },
  {
   "cell_type": "code",
   "execution_count": 2,
   "metadata": {},
   "outputs": [
    {
     "name": "stdout",
     "output_type": "stream",
     "text": [
      "Generating universe...\t: Done in 1.963 s\n"
     ]
    },
    {
     "name": "stderr",
     "output_type": "stream",
     "text": [
      "Generating positions\t: 100%|\u001b[35m██████████\u001b[0m| 100/100 [00:00<00:00, 201649.23it/s]\n",
      "Invoking population\t: 100%|\u001b[34m██████████\u001b[0m| 100/100 [00:00<00:00, 43058.25it/s]\n",
      "Starting population\t: 100%|\u001b[32m██████████\u001b[0m| 100/100 [00:00<00:00, 13253.82it/s]\n",
      "Running simulation\t: 100%|\u001b[33m██████████\u001b[0m| 10/10 [00:16<00:00,  1.66s/it]\n"
     ]
    },
    {
     "name": "stdout",
     "output_type": "stream",
     "text": [
      "Interrupting population\t: 4272...\n",
      "\t\t\t| 1111...\n",
      "Simulation succeed...\t: Returning data... Done in 20.999 s\n"
     ]
    }
   ],
   "source": [
    "simulation = lab.experiment(\n",
    "    height=2000, width=2000,\n",
    "    initial_population_count=100,\n",
    "    max_total_duration=60, max_simulation_duration=10\n",
    ")"
   ]
  },
  {
   "cell_type": "markdown",
   "metadata": {},
   "source": [
    "## Analysis"
   ]
  },
  {
   "cell_type": "markdown",
   "metadata": {},
   "source": [
    "### Gathering data"
   ]
  },
  {
   "cell_type": "code",
   "execution_count": 3,
   "metadata": {},
   "outputs": [
    {
     "name": "stderr",
     "output_type": "stream",
     "text": [
      "Computing agents statistics\t: 100%|\u001b[31m██████████\u001b[0m| 5462/5462 [00:00<00:00, 26219.95it/s]\n",
      "Gathering timelines\t\t: 100%|\u001b[31m██████████\u001b[0m| 5462/5462 [00:00<00:00, 4031196.28it/s]\n"
     ]
    }
   ],
   "source": [
    "data = lab.gather_data(simulation)"
   ]
  },
  {
   "cell_type": "code",
   "execution_count": 4,
   "metadata": {},
   "outputs": [
    {
     "data": {
      "text/html": [
       "<div>\n",
       "<style scoped>\n",
       "    .dataframe tbody tr th:only-of-type {\n",
       "        vertical-align: middle;\n",
       "    }\n",
       "\n",
       "    .dataframe tbody tr th {\n",
       "        vertical-align: top;\n",
       "    }\n",
       "\n",
       "    .dataframe thead th {\n",
       "        text-align: right;\n",
       "    }\n",
       "</style>\n",
       "<table border=\"1\" class=\"dataframe\">\n",
       "  <thead>\n",
       "    <tr style=\"text-align: right;\">\n",
       "      <th></th>\n",
       "      <th>generation</th>\n",
       "      <th>parents_count</th>\n",
       "      <th>dead</th>\n",
       "      <th>lifespan</th>\n",
       "      <th>children_count</th>\n",
       "      <th>birth_success</th>\n",
       "      <th>travelled_distance</th>\n",
       "      <th>actions_count</th>\n",
       "      <th>mean_decision_duration</th>\n",
       "      <th>mean_action_duration</th>\n",
       "      <th>mean_round_duration</th>\n",
       "    </tr>\n",
       "    <tr>\n",
       "      <th>id</th>\n",
       "      <th></th>\n",
       "      <th></th>\n",
       "      <th></th>\n",
       "      <th></th>\n",
       "      <th></th>\n",
       "      <th></th>\n",
       "      <th></th>\n",
       "      <th></th>\n",
       "      <th></th>\n",
       "      <th></th>\n",
       "      <th></th>\n",
       "    </tr>\n",
       "  </thead>\n",
       "  <tbody>\n",
       "    <tr>\n",
       "      <th>0</th>\n",
       "      <td>0</td>\n",
       "      <td>1</td>\n",
       "      <td>True</td>\n",
       "      <td>106288826</td>\n",
       "      <td>1</td>\n",
       "      <td>True</td>\n",
       "      <td>16</td>\n",
       "      <td>18</td>\n",
       "      <td>18431.500000</td>\n",
       "      <td>4.046345e+06</td>\n",
       "      <td>6.241717e+06</td>\n",
       "    </tr>\n",
       "    <tr>\n",
       "      <th>1</th>\n",
       "      <td>0</td>\n",
       "      <td>1</td>\n",
       "      <td>True</td>\n",
       "      <td>270624992</td>\n",
       "      <td>1</td>\n",
       "      <td>True</td>\n",
       "      <td>41</td>\n",
       "      <td>60</td>\n",
       "      <td>16560.483333</td>\n",
       "      <td>1.854893e+06</td>\n",
       "      <td>4.481557e+06</td>\n",
       "    </tr>\n",
       "    <tr>\n",
       "      <th>2</th>\n",
       "      <td>0</td>\n",
       "      <td>1</td>\n",
       "      <td>True</td>\n",
       "      <td>205106809</td>\n",
       "      <td>2</td>\n",
       "      <td>True</td>\n",
       "      <td>9</td>\n",
       "      <td>17</td>\n",
       "      <td>13496.882353</td>\n",
       "      <td>6.184148e+06</td>\n",
       "      <td>1.261075e+07</td>\n",
       "    </tr>\n",
       "    <tr>\n",
       "      <th>3</th>\n",
       "      <td>0</td>\n",
       "      <td>1</td>\n",
       "      <td>True</td>\n",
       "      <td>85129139</td>\n",
       "      <td>1</td>\n",
       "      <td>True</td>\n",
       "      <td>20</td>\n",
       "      <td>25</td>\n",
       "      <td>17484.680000</td>\n",
       "      <td>1.794662e+06</td>\n",
       "      <td>3.467191e+06</td>\n",
       "    </tr>\n",
       "    <tr>\n",
       "      <th>4</th>\n",
       "      <td>0</td>\n",
       "      <td>1</td>\n",
       "      <td>True</td>\n",
       "      <td>97751653</td>\n",
       "      <td>1</td>\n",
       "      <td>True</td>\n",
       "      <td>15</td>\n",
       "      <td>16</td>\n",
       "      <td>16338.312500</td>\n",
       "      <td>4.527682e+06</td>\n",
       "      <td>6.296414e+06</td>\n",
       "    </tr>\n",
       "    <tr>\n",
       "      <th>...</th>\n",
       "      <td>...</td>\n",
       "      <td>...</td>\n",
       "      <td>...</td>\n",
       "      <td>...</td>\n",
       "      <td>...</td>\n",
       "      <td>...</td>\n",
       "      <td>...</td>\n",
       "      <td>...</td>\n",
       "      <td>...</td>\n",
       "      <td>...</td>\n",
       "      <td>...</td>\n",
       "    </tr>\n",
       "    <tr>\n",
       "      <th>5457</th>\n",
       "      <td>9</td>\n",
       "      <td>1</td>\n",
       "      <td>False</td>\n",
       "      <td>59026740</td>\n",
       "      <td>0</td>\n",
       "      <td>True</td>\n",
       "      <td>1</td>\n",
       "      <td>0</td>\n",
       "      <td>NaN</td>\n",
       "      <td>NaN</td>\n",
       "      <td>NaN</td>\n",
       "    </tr>\n",
       "    <tr>\n",
       "      <th>5458</th>\n",
       "      <td>7</td>\n",
       "      <td>1</td>\n",
       "      <td>False</td>\n",
       "      <td>50033768</td>\n",
       "      <td>0</td>\n",
       "      <td>True</td>\n",
       "      <td>1</td>\n",
       "      <td>0</td>\n",
       "      <td>NaN</td>\n",
       "      <td>NaN</td>\n",
       "      <td>NaN</td>\n",
       "    </tr>\n",
       "    <tr>\n",
       "      <th>5459</th>\n",
       "      <td>5</td>\n",
       "      <td>1</td>\n",
       "      <td>False</td>\n",
       "      <td>46944374</td>\n",
       "      <td>0</td>\n",
       "      <td>True</td>\n",
       "      <td>1</td>\n",
       "      <td>0</td>\n",
       "      <td>NaN</td>\n",
       "      <td>NaN</td>\n",
       "      <td>NaN</td>\n",
       "    </tr>\n",
       "    <tr>\n",
       "      <th>5460</th>\n",
       "      <td>10</td>\n",
       "      <td>1</td>\n",
       "      <td>False</td>\n",
       "      <td>44708419</td>\n",
       "      <td>0</td>\n",
       "      <td>True</td>\n",
       "      <td>1</td>\n",
       "      <td>0</td>\n",
       "      <td>NaN</td>\n",
       "      <td>NaN</td>\n",
       "      <td>NaN</td>\n",
       "    </tr>\n",
       "    <tr>\n",
       "      <th>5461</th>\n",
       "      <td>8</td>\n",
       "      <td>1</td>\n",
       "      <td>False</td>\n",
       "      <td>43871581</td>\n",
       "      <td>0</td>\n",
       "      <td>True</td>\n",
       "      <td>1</td>\n",
       "      <td>0</td>\n",
       "      <td>NaN</td>\n",
       "      <td>NaN</td>\n",
       "      <td>NaN</td>\n",
       "    </tr>\n",
       "  </tbody>\n",
       "</table>\n",
       "<p>5462 rows × 11 columns</p>\n",
       "</div>"
      ],
      "text/plain": [
       "      generation  parents_count   dead   lifespan  children_count  \\\n",
       "id                                                                  \n",
       "0              0              1   True  106288826               1   \n",
       "1              0              1   True  270624992               1   \n",
       "2              0              1   True  205106809               2   \n",
       "3              0              1   True   85129139               1   \n",
       "4              0              1   True   97751653               1   \n",
       "...          ...            ...    ...        ...             ...   \n",
       "5457           9              1  False   59026740               0   \n",
       "5458           7              1  False   50033768               0   \n",
       "5459           5              1  False   46944374               0   \n",
       "5460          10              1  False   44708419               0   \n",
       "5461           8              1  False   43871581               0   \n",
       "\n",
       "      birth_success  travelled_distance  actions_count  \\\n",
       "id                                                       \n",
       "0              True                  16             18   \n",
       "1              True                  41             60   \n",
       "2              True                   9             17   \n",
       "3              True                  20             25   \n",
       "4              True                  15             16   \n",
       "...             ...                 ...            ...   \n",
       "5457           True                   1              0   \n",
       "5458           True                   1              0   \n",
       "5459           True                   1              0   \n",
       "5460           True                   1              0   \n",
       "5461           True                   1              0   \n",
       "\n",
       "      mean_decision_duration  mean_action_duration  mean_round_duration  \n",
       "id                                                                       \n",
       "0               18431.500000          4.046345e+06         6.241717e+06  \n",
       "1               16560.483333          1.854893e+06         4.481557e+06  \n",
       "2               13496.882353          6.184148e+06         1.261075e+07  \n",
       "3               17484.680000          1.794662e+06         3.467191e+06  \n",
       "4               16338.312500          4.527682e+06         6.296414e+06  \n",
       "...                      ...                   ...                  ...  \n",
       "5457                     NaN                   NaN                  NaN  \n",
       "5458                     NaN                   NaN                  NaN  \n",
       "5459                     NaN                   NaN                  NaN  \n",
       "5460                     NaN                   NaN                  NaN  \n",
       "5461                     NaN                   NaN                  NaN  \n",
       "\n",
       "[5462 rows x 11 columns]"
      ]
     },
     "execution_count": 4,
     "metadata": {},
     "output_type": "execute_result"
    }
   ],
   "source": [
    "data[\"agents_statistics\"]"
   ]
  },
  {
   "cell_type": "code",
   "execution_count": 5,
   "metadata": {},
   "outputs": [
    {
     "data": {
      "text/plain": [
       "{'mean_lifespan': 9776909478,\n",
       " 'mean_children_count': 0.981691688026364,\n",
       " 'mean_birth_success': 0.9952398388868546,\n",
       " 'mean_travelled_distance': 8.792566825338703,\n",
       " 'mean_actions_count': 67.74844379348224,\n",
       " 'mean_decision_duration': 31837,\n",
       " 'mean_action_duration': 8097362,\n",
       " 'mean_round_duration': 197186355}"
      ]
     },
     "execution_count": 5,
     "metadata": {},
     "output_type": "execute_result"
    }
   ],
   "source": [
    "data[\"population_statistics\"]"
   ]
  },
  {
   "cell_type": "markdown",
   "metadata": {},
   "source": [
    "### Visualization"
   ]
  },
  {
   "cell_type": "code",
   "execution_count": 6,
   "metadata": {},
   "outputs": [
    {
     "ename": "AttributeError",
     "evalue": "type object 'Agent' has no attribute 'population'",
     "output_type": "error",
     "traceback": [
      "\u001b[0;31m---------------------------------------------------------------------------\u001b[0m",
      "\u001b[0;31mAttributeError\u001b[0m                            Traceback (most recent call last)",
      "Cell \u001b[0;32mIn[6], line 7\u001b[0m\n\u001b[1;32m      4\u001b[0m images \u001b[38;5;241m=\u001b[39m []\n\u001b[1;32m      5\u001b[0m \u001b[38;5;28;01mfrom\u001b[39;00m \u001b[38;5;21;01mmatplotlib\u001b[39;00m \u001b[38;5;28;01mimport\u001b[39;00m pyplot \u001b[38;5;28;01mas\u001b[39;00m plt\n\u001b[0;32m----> 7\u001b[0m \u001b[38;5;28;01mfor\u001b[39;00m t \u001b[38;5;129;01min\u001b[39;00m timeline:\n\u001b[1;32m      8\u001b[0m     images\u001b[38;5;241m.\u001b[39mappend(t)\n",
      "File \u001b[0;32m~/Code/sinvoker/src/Lab.py:248\u001b[0m, in \u001b[0;36mLab.generate_actions_timeline\u001b[0;34m(self, time_step)\u001b[0m\n\u001b[1;32m    244\u001b[0m \u001b[38;5;28;01mdef\u001b[39;00m \u001b[38;5;21mgenerate_actions_timeline\u001b[39m(\u001b[38;5;28mself\u001b[39m, time_step):\n\u001b[1;32m    245\u001b[0m     \u001b[38;5;66;03m# TODO maybe use copy()\u001b[39;00m\n\u001b[1;32m    246\u001b[0m     \u001b[38;5;66;03m# TODO call it from analyze\u001b[39;00m\n\u001b[1;32m    247\u001b[0m     \u001b[38;5;66;03m# TODO look for a method to determine optimal time_step\u001b[39;00m\n\u001b[0;32m--> 248\u001b[0m     actives: \u001b[38;5;28mlist\u001b[39m \u001b[38;5;241m=\u001b[39m [a \u001b[38;5;28;01mfor\u001b[39;00m a \u001b[38;5;129;01min\u001b[39;00m \u001b[43mAgent\u001b[49m\u001b[38;5;241;43m.\u001b[39;49m\u001b[43mpopulation\u001b[49m\u001b[38;5;241m.\u001b[39mvalues() \u001b[38;5;28;01mif\u001b[39;00m a\u001b[38;5;241m.\u001b[39mpath]\n\u001b[1;32m    249\u001b[0m     inactives: \u001b[38;5;28mlist\u001b[39m \u001b[38;5;241m=\u001b[39m [a \u001b[38;5;28;01mfor\u001b[39;00m a \u001b[38;5;129;01min\u001b[39;00m Agent\u001b[38;5;241m.\u001b[39mpopulation\u001b[38;5;241m.\u001b[39mvalues() \u001b[38;5;28;01mif\u001b[39;00m \u001b[38;5;129;01mnot\u001b[39;00m a\u001b[38;5;241m.\u001b[39mpath]\n\u001b[1;32m    250\u001b[0m     time \u001b[38;5;241m=\u001b[39m \u001b[38;5;28mmin\u001b[39m([a\u001b[38;5;241m.\u001b[39mpath[\u001b[38;5;241m0\u001b[39m]\u001b[38;5;241m.\u001b[39mt \u001b[38;5;28;01mfor\u001b[39;00m a \u001b[38;5;129;01min\u001b[39;00m actives])\n",
      "\u001b[0;31mAttributeError\u001b[0m: type object 'Agent' has no attribute 'population'"
     ]
    }
   ],
   "source": [
    "import imageio\n",
    "\n",
    "timeline = lab.generate_actions_timeline(time_step=1e6)\n",
    "images = []\n",
    "from matplotlib import pyplot as plt\n",
    "\n",
    "for t in timeline:\n",
    "    images.append(t)"
   ]
  },
  {
   "cell_type": "code",
   "execution_count": null,
   "metadata": {},
   "outputs": [],
   "source": [
    "imageio.mimsave(\"results/output.gif\", images, duration=0.01, loop=0)"
   ]
  }
 ],
 "metadata": {
  "kernelspec": {
   "display_name": "Python 3 (ipykernel)",
   "language": "python",
   "name": "python3"
  },
  "language_info": {
   "codemirror_mode": {
    "name": "ipython",
    "version": 3
   },
   "file_extension": ".py",
   "mimetype": "text/x-python",
   "name": "python",
   "nbconvert_exporter": "python",
   "pygments_lexer": "ipython3",
   "version": "3.11.8"
  }
 },
 "nbformat": 4,
 "nbformat_minor": 4
}
